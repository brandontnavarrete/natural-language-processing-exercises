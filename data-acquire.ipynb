{
 "cells": [
  {
   "cell_type": "code",
   "execution_count": 2,
   "id": "3b08ae7b",
   "metadata": {},
   "outputs": [],
   "source": [
    "import pandas as pd \n",
    "import numpy as np \n",
    "import os \n",
    "import requests\n",
    "from requests import get\n",
    "\n",
    "from bs4 import BeautifulSoup"
   ]
  },
  {
   "cell_type": "markdown",
   "id": "cdd4642b",
   "metadata": {},
   "source": [
    "# article "
   ]
  },
  {
   "cell_type": "markdown",
   "id": "defba8f4",
   "metadata": {},
   "source": [
    "https://codeup.com/data-science/math-in-data-science/"
   ]
  },
  {
   "cell_type": "code",
   "execution_count": 3,
   "id": "c431f3d1",
   "metadata": {},
   "outputs": [],
   "source": [
    "url = 'https://codeup.com/data-science/math-in-data-science/'\n",
    "headers = {'User-Agent': 'Codeup Data Science'} # Some websites don't accept the pyhon-requests default user-agent\n",
    "# headers, change python request\n",
    "response = requests.get(url, headers=headers) \n"
   ]
  },
  {
   "cell_type": "code",
   "execution_count": 4,
   "id": "909509db",
   "metadata": {},
   "outputs": [
    {
     "name": "stdout",
     "output_type": "stream",
     "text": [
      "<!DOCTYPE html>\n",
      "<html lang=\"en-US\">\n",
      "<head>\n",
      "\t<meta charset=\"UTF-8\" />\n",
      "<meta http-equiv=\"X-UA-Compatible\" content=\"IE=edge\">\n",
      "\t<link rel=\"pingback\" href=\"https://codeup.com/xmlrpc.php\" />\n",
      "\n",
      "\t<script type=\"text/javascript\">\n",
      "\t\tdocument.documentElement.className = 'js';\n",
      "\t</script>\n",
      "\t\n",
      "\t<link rel=\"preconnect\" href=\"https://fonts.gstatic.com\" crossorigin /><script id=\"diviarea-loader\">window.DiviPopupData=wi\n"
     ]
    }
   ],
   "source": [
    "print(response.text[:400])"
   ]
  },
  {
   "cell_type": "markdown",
   "id": "023fcf50",
   "metadata": {},
   "source": [
    "# Soup"
   ]
  },
  {
   "cell_type": "code",
   "execution_count": 5,
   "id": "66eb567b",
   "metadata": {},
   "outputs": [],
   "source": [
    "# Make a soup variable holding the response content\n",
    "soup = BeautifulSoup(response.content, 'html.parser')"
   ]
  },
  {
   "cell_type": "code",
   "execution_count": 6,
   "id": "40795649",
   "metadata": {},
   "outputs": [
    {
     "data": {
      "text/plain": [
       "'What are the Math and Stats Principles You Need for Data Science? -'"
      ]
     },
     "execution_count": 6,
     "metadata": {},
     "output_type": "execute_result"
    }
   ],
   "source": [
    "soup.title.string"
   ]
  },
  {
   "cell_type": "code",
   "execution_count": 7,
   "id": "f7a56c21",
   "metadata": {},
   "outputs": [
    {
     "data": {
      "text/plain": [
       "[<a href=\"https://codeup.com/\">Home</a>,\n",
       " <a href=\"https://codeup.com/program/cloud-adminsitration/\">Cloud Administration</a>,\n",
       " <a href=\"https://codeup.com/program/full-stack-web-development/\">Full Stack Web Development</a>,\n",
       " <a href=\"https://codeup.com/program/data-science/\">Data Science</a>,\n",
       " <a href=\"/events/\">Workshops</a>,\n",
       " <a href=\"/san-antonio-events/\">San Antonio</a>,\n",
       " <a href=\"/dallas-events/\">Dallas</a>,\n",
       " <a href=\"https://codeup.com/financial-aid/\">Financial Aid</a>,\n",
       " <a href=\"https://codeup.com/veterans/\">Military</a>,\n",
       " <a href=\"https://codeup.com/hire-tech-talent/\">Hire Tech Talent</a>,\n",
       " <a href=\"https://alumni.codeup.com/\">Alumni</a>,\n",
       " <a href=\"https://codeup.com/resources/\">Resources</a>,\n",
       " <a href=\"/my-story/\">Student Reviews</a>,\n",
       " <a href=\"https://codeup.com/blog/\">Blog</a>,\n",
       " <a href=\"https://codeup.com/frequently-asked-questions/\">Common Questions</a>,\n",
       " <a href=\"https://codeup.com/podcast/\">Hire Tech Podcast</a>,\n",
       " <a href=\"https://codeup.com/apply-now/\">Apply Now</a>,\n",
       " <a href=\"https://codeup.com/\">\n",
       " <img alt=\"Codeup\" class=\"main-logo normal-logo\" id=\"dm-logo\" src=\"https://tribucodeup.wpenginepowered.com/wp-content/uploads/2021/08/CodeupFullColorLogo.png\" title=\"\">\n",
       " </img></a>,\n",
       " <a href=\"/about-codeup/\">About</a>,\n",
       " <a href=\"/category/behind-the-billboards/\">Behind The Billboards</a>,\n",
       " <a href=\"/careers/\">Careers</a>,\n",
       " <a href=\"/index.php/\"><img alt=\"Codeup Best Coding Bootcamp\" class=\"wp-image-28\" decoding=\"async\" height=\"86\" loading=\"lazy\" src=\"https://tribucodeup.wpenginepowered.com/wp-content/uploads/2021/06/codeup_logo.png\" width=\"226\"/></a>,\n",
       " <a href=\"https://codeup.com/programs/\" title=\"Coding Programs\">Programs</a>,\n",
       " <a href=\"https://codeup.com/program/cloud-administration/\">Cloud Administration</a>,\n",
       " <a href=\"https://codeup.com/program/full-stack-web-development/\" title=\"Full Stack Web Development Bootcamp\">Web Development</a>,\n",
       " <a href=\"https://codeup.com/program/data-science/\" title=\"Data Science Bootcamp in Texas\">Data Science</a>,\n",
       " <a href=\"/financial-aid/\">Financing</a>,\n",
       " <a href=\"#\">Events</a>,\n",
       " <a href=\"https://codeup.com/san-antonio-events/\">San Antonio</a>,\n",
       " <a href=\"https://codeup.com/dallas-events/\">Dallas</a>,\n",
       " <a href=\"https://codeup.com/veterans/\">Military</a>,\n",
       " <a>Campuses</a>,\n",
       " <a href=\"https://codeup.com/san-antonio/\">San Antonio</a>,\n",
       " <a href=\"https://codeup.com/dallas/\">Dallas</a>,\n",
       " <a href=\"https://codeup.com/hire-tech-talent/\" title=\"Hire Diversified Tech Talent\">Hire</a>,\n",
       " <a href=\"https://codeup.com/hire-tech-talent/\">Employers</a>,\n",
       " <a href=\"https://alumni.codeup.com/\">Alumni Portal</a>,\n",
       " <a href=\"https://codeup.com/resources/\">Resources</a>,\n",
       " <a href=\"/my-story/\">Student Reviews</a>,\n",
       " <a href=\"https://codeup.com/blog/\">Blog</a>,\n",
       " <a href=\"https://codeup.com/frequently-asked-questions/\">Common Questions</a>,\n",
       " <a href=\"https://codeup.com/podcast/\">Hire Tech Podcast</a>,\n",
       " <a class=\"et_pb_button et_pb_button_0_tb_header et_pb_bg_layout_light\" href=\"/apply-now/\">Start Now</a>,\n",
       " <a href=\"https://codeup.com/category/data-science/\" rel=\"category tag\">Data Science</a>,\n",
       " <a href=\"https://codeup.com/codeups-application-process/\"><span style=\"font-weight: 400;\">application process</span></a>,\n",
       " <a href=\"https://codeup.com/apply-now\"><span style=\"font-weight: 400;\">apply!</span></a>,\n",
       " <a href=\"http://www.codeup.com/apply\">apply</a>,\n",
       " <a href=\"https://codeup.com/program/cloud-administration/\">Cloud Administration</a>,\n",
       " <a href=\"https://codeup.com/program/full-stack-web-development/\">Full Stack Web Development</a>,\n",
       " <a href=\"https://codeup.com/program/data-science/\">Data Science</a>,\n",
       " <a class=\"wp-block-latest-posts__post-title\" href=\"https://codeup.com/codeup-news/panelist-spotlight-4/\">Black Excellence in Tech: Panelist Spotlight – Wilmarie De La Cruz Mejia</a>,\n",
       " <a class=\"wp-block-latest-posts__post-title\" href=\"https://codeup.com/events/black-excellence-in-tech-panelist-spotlight-stephanie-jones/\">Black excellence in tech: Panelist Spotlight – Stephanie Jones</a>,\n",
       " <a class=\"wp-block-latest-posts__post-title\" href=\"https://codeup.com/events/black-excellence-in-tech-panelist-spotlight-james-cooper/\">Black excellence in tech: Panelist Spotlight – James Cooper</a>,\n",
       " <a class=\"wp-block-latest-posts__post-title\" href=\"https://codeup.com/events/black-excellence-in-tech-panelist-spotlight/\">Black excellence in tech: Panelist Spotlight – Jeanice Freeman</a>,\n",
       " <a class=\"wp-block-latest-posts__post-title\" href=\"https://codeup.com/tips-for-prospective-students/coding-bootcamp-or-self-learning/\">Coding Bootcamp or Self-Learning? Which is Best for You?</a>,\n",
       " <a class=\"et_pb_button et_pb_button_0_tb_footer et_pb_bg_layout_light\" href=\"/moreinfo/\">Request Information</a>,\n",
       " <a href=\"tel:12108027289\" title=\"call Codeup\">(210) 802–7289</a>,\n",
       " <a class=\"icon et_pb_with_border\" href=\"https://www.facebook.com/GoCodeup/\" target=\"_blank\" title=\"Follow on Facebook\"><span aria-hidden=\"true\" class=\"et_pb_social_media_follow_network_name\">Follow</span></a>,\n",
       " <a class=\"icon et_pb_with_border\" href=\"https://twitter.com/gocodeup\" target=\"_blank\" title=\"Follow on Twitter\"><span aria-hidden=\"true\" class=\"et_pb_social_media_follow_network_name\">Follow</span></a>,\n",
       " <a class=\"icon et_pb_with_border\" href=\"https://www.instagram.com/gocodeup/?hl=en\" target=\"_blank\" title=\"Follow on Instagram\"><span aria-hidden=\"true\" class=\"et_pb_social_media_follow_network_name\">Follow</span></a>,\n",
       " <a class=\"icon et_pb_with_border\" href=\"https://www.linkedin.com/school/3799914\" target=\"_blank\" title=\"Follow on LinkedIn\"><span aria-hidden=\"true\" class=\"et_pb_social_media_follow_network_name\">Follow</span></a>,\n",
       " <a class=\"icon et_pb_with_border\" href=\"/podcast/\" target=\"_blank\" title=\"Follow on RSS\"><span aria-hidden=\"true\" class=\"et_pb_social_media_follow_network_name\">Follow</span></a>,\n",
       " <a href=\"/dallas\">Dallas</a>,\n",
       " <a href=\"/san-antonio\">San Antonio</a>,\n",
       " <a href=\"/index.php/\"><span class=\"et_pb_image_wrap\"><img alt=\"quack quack\" class=\"wp-image-15815\" decoding=\"async\" height=\"256\" loading=\"lazy\" sizes=\"(max-width: 336px) 100vw, 336px\" src=\"https://tribucodeup.wpenginepowered.com/wp-content/uploads/2018/08/codey-1.png\" srcset=\"https://tribucodeup.wpenginepowered.com/wp-content/uploads/2018/08/codey-1.png 336w, https://tribucodeup.wpenginepowered.com/wp-content/uploads/2018/08/codey-1-300x229.png 300w\" title=\"Codey\" width=\"336\"/></span></a>,\n",
       " <a href=\"/why-codeup/\" title=\"About Codeup\">Why Codeup?</a>,\n",
       " <a href=\"/financial-aid/\" title=\"how to pay for bootcamp\">Financial Aid Options</a>,\n",
       " <a href=\"/my-story/\" title=\"Codeup Reviews\">Student Reviews</a>,\n",
       " <a href=\"/hire-tech-talent/\">Employers</a>,\n",
       " <a href=\"/refund/\" title=\"Codeup Refund Policy\">Refund Policy</a>,\n",
       " <a href=\"/frequently-asked-questions/\" title=\"frequently asked questions\">FAQs</a>,\n",
       " <a href=\"/careers/\" title=\"Jobs at Codeup\">Careers</a>,\n",
       " <a href=\"/pr/\" title=\"press assets for Codeup\">Media Kit</a>,\n",
       " <a href=\"/program/full-stack-web-development/\" title=\"coding bootcamp in Texas\">Full Stack Web Development</a>,\n",
       " <a href=\"/program/data-science/\" title=\"data science bootcamp in Texas\">Data Science</a>,\n",
       " <a href=\"/cloud-administration/\" title=\"learn Cloud Administration in Texas\">Cloud Administration</a>,\n",
       " <a href=\"/free/\" title=\"learn to code for free\">Free Networking Course</a>,\n",
       " <a class=\"et_pb_button et_pb_button_1_tb_footer et_pb_bg_layout_light\" href=\"/apply-now/\">Apply Now</a>,\n",
       " <a href=\"/privacy/\">Privacy Policy</a>,\n",
       " <a href=\"/student-complaint-policy/\" title=\"complaint policy\">Complaint Policy</a>,\n",
       " <a href=\"/codeup-news/inclusion-at-codeup-during-pride-month-and-always/\" title=\"DEI at Codeup\">Inclusion</a>,\n",
       " <a href=\"/accessibility/\">Accessibility</a>,\n",
       " <a href=\"/sitemap_index.xml\">Sitemap</a>,\n",
       " <a class=\"wt-cli-ccpa-opt-out\" style=\"color:#333333\">No worries, we do not sell your personal information.</a>,\n",
       " <a class=\"medium cli-plugin-button cli-plugin-main-button cli_settings_button\" role=\"button\" style=\"margin:0px 10px 0px 5px\">Cookie Settings</a>,\n",
       " <a class=\"medium cli-plugin-button cli-plugin-main-button cookie_action_close_header cli_action_button wt-cli-accept-btn\" data-cli_action=\"accept\" id=\"cookie_action_close_header\" role=\"button\" style=\"display:inline-block\">Accept</a>,\n",
       " <a aria-label=\"Show more\" class=\"cli-privacy-readmore\" data-readless-text=\"Show less\" data-readmore-text=\"Show more\" role=\"button\"></a>,\n",
       " <a class=\"cli-nav-link cli-settings-mobile\" data-target=\"necessary\" data-toggle=\"cli-toggle-tab\" role=\"button\" tabindex=\"0\">\n",
       " \t\t\t\t\t\t\t\tNecessary\t\t\t\t\t\t\t</a>,\n",
       " <a class=\"cli-nav-link cli-settings-mobile\" data-target=\"functional\" data-toggle=\"cli-toggle-tab\" role=\"button\" tabindex=\"0\">\n",
       " \t\t\t\t\t\t\t\tFunctional\t\t\t\t\t\t\t</a>,\n",
       " <a class=\"cli-nav-link cli-settings-mobile\" data-target=\"performance\" data-toggle=\"cli-toggle-tab\" role=\"button\" tabindex=\"0\">\n",
       " \t\t\t\t\t\t\t\tPerformance\t\t\t\t\t\t\t</a>,\n",
       " <a class=\"cli-nav-link cli-settings-mobile\" data-target=\"analytics\" data-toggle=\"cli-toggle-tab\" role=\"button\" tabindex=\"0\">\n",
       " \t\t\t\t\t\t\t\tAnalytics\t\t\t\t\t\t\t</a>,\n",
       " <a class=\"cli-nav-link cli-settings-mobile\" data-target=\"advertisement\" data-toggle=\"cli-toggle-tab\" role=\"button\" tabindex=\"0\">\n",
       " \t\t\t\t\t\t\t\tAdvertisement\t\t\t\t\t\t\t</a>,\n",
       " <a class=\"cli-nav-link cli-settings-mobile\" data-target=\"others\" data-toggle=\"cli-toggle-tab\" role=\"button\" tabindex=\"0\">\n",
       " \t\t\t\t\t\t\t\tOthers\t\t\t\t\t\t\t</a>,\n",
       " <a class=\"wt-cli-privacy-btn cli_setting_save_button wt-cli-privacy-accept-btn cli-btn\" data-cli-action=\"accept\" id=\"wt-cli-privacy-save-btn\" role=\"button\" tabindex=\"0\">SAVE &amp; ACCEPT</a>]"
      ]
     },
     "execution_count": 7,
     "metadata": {},
     "output_type": "execute_result"
    }
   ],
   "source": [
    "soup.find_all(\"a\")"
   ]
  },
  {
   "cell_type": "code",
   "execution_count": 8,
   "id": "d8bbd55d",
   "metadata": {},
   "outputs": [],
   "source": [
    "article = soup.find('div', id='main-content')"
   ]
  },
  {
   "cell_type": "code",
   "execution_count": 9,
   "id": "1e4ce076",
   "metadata": {},
   "outputs": [
    {
     "data": {
      "text/plain": [
       "'\\n\\n\\n\\n\\n\\nWhat are the Math and Stats Principles You Need for Data Science?\\nOct 21, 2020 | Data Science\\n\\n\\nComing into our Data Science program, you will need to know some math and stats. However, many of our applicants actually learn in the application process – you don’t need to be an expert before applying! Data science is a very accessible field to anyone dedicated to learning new skills, and we can work with any applicant to help them learn what they need to know. But what “skills” do we mean, exactly? Just what exactly are the data science math and stats principles you need to know?\\nWhat are the main math principles you need to know to get into Codeup’s Data Science program?\\n\\n\\nAlgebra\\nDo you know PEMDAS and can you solve for x? You will need to be or become comfortable with the following:\\xa0\\n\\nVariables (x, y, n, etc.)\\nFormulas, functions, and variable manipulations (e.g. x^2 = x + 6, solve for x).\\nOrder of evaluation: PEMDAS: parentheses, exponents, then multiplication, division, addition, and subtraction\\nCommutativity where a + b = b + a\\nAssociativity where a + (b + c) = (a + b) + c\\nAdding and subtracting matrices\\nA conceptual understanding of exponential growth/decay- things can increase at an increasing rate\\n\\nDescriptive Statistics\\nKnow what a min, max, mode, median, and average are. Have a conceptual understanding that stats/probability is about trying to quantify uncertainty.\\nData Visualization\\nKnow what a scatterplot is and how to read a barplot.\\nHow to Learn and Expand on These Concepts\\nThere are a number of great resources out there to teach you these and similar concepts. Khan Academy is a great starting place for data science math! If you want to know what exactly we assign our applicants, you’ll just have to apply!\\n\\xa0\\nWhat about once you’re in Codeup?\\n\\n\\nWhat You Won’t Do\\nDo we do any mathematical proofs for concepts or perform derivations? No.\\xa0\\nDo we do any calculus and probability calculating by hand? No.\\nAre we transforming equations, where we cancel out units or terms and do lots of algebraic gymnastics? No\\nWhat You Will Do\\nWill we have Python solve our linear algebra problems for us? Yes\\nWill we have Python calculate probabilities, the area under a curve, and the slope of a line for us? Yes\\nWill we have Python do all of the calculus for us? Yes\\n\\xa0\\nSee, the data science math and stats slice of the pie is certainly doable. If you like problem-solving and are ready to challenge yourself, you’ll love data science! If you are interested in learning about data science, just apply! Our Admissions Manager can work with you to get you where you need to be starting from where you are now. Let us help you get there so you can launch a great new career.\\n\\n\\n\\n\\n\\n\\n\\n\\nOur ProgramsCloud Administration\\nFull Stack Web Development\\nData Science\\n\\n\\n\\n\\n\\nLatest Blog Articles\\nBlack Excellence in Tech: Panelist Spotlight – Wilmarie De La Cruz Mejia\\nBlack excellence in tech: Panelist Spotlight – Stephanie Jones\\nBlack excellence in tech: Panelist Spotlight – James Cooper\\nBlack excellence in tech: Panelist Spotlight – Jeanice Freeman\\nCoding Bootcamp or Self-Learning? Which is Best for You?\\n\\n\\n\\n\\n\\n\\n\\n\\n\\n\\n\\n\\n\\n\\n\\n\\n\\n \\n\\n\\n'"
      ]
     },
     "execution_count": 9,
     "metadata": {},
     "output_type": "execute_result"
    }
   ],
   "source": [
    "article.text"
   ]
  },
  {
   "cell_type": "markdown",
   "id": "96917c2e",
   "metadata": {},
   "source": [
    "# store text"
   ]
  },
  {
   "cell_type": "code",
   "execution_count": 10,
   "id": "46273b8d",
   "metadata": {},
   "outputs": [],
   "source": [
    "with open('article.txt', 'w') as f:\n",
    "    f.write(article.text)"
   ]
  },
  {
   "cell_type": "code",
   "execution_count": 11,
   "id": "eb6aea86",
   "metadata": {},
   "outputs": [],
   "source": [
    "def get_article_text():\n",
    "    # if we already have the data, read it locally\n",
    "    if path.exists('article.txt'):\n",
    "        with open('article.txt') as f:\n",
    "            return f.read()\n",
    "\n",
    "    # otherwise go fetch the data\n",
    "    url = 'https://codeup.com/data-science/math-in-data-science/'\n",
    "    headers = {'User-Agent': 'Codeup Data Science'}\n",
    "    response = get(url, headers=headers)\n",
    "    soup = BeautifulSoup(response.text)\n",
    "    article = soup.find('div', id='main-content')\n",
    "\n",
    "    # save it for next time\n",
    "    with open('article.txt', 'w') as f:\n",
    "        f.write(article.text)\n",
    "\n",
    "    return article.text"
   ]
  },
  {
   "cell_type": "markdown",
   "id": "88a7c3b8",
   "metadata": {},
   "source": [
    "# Exercises"
   ]
  },
  {
   "cell_type": "markdown",
   "id": "055e49b0",
   "metadata": {},
   "source": [
    "#### 1. Codeup Blog Articles"
   ]
  },
  {
   "cell_type": "markdown",
   "id": "7e0d11f6",
   "metadata": {},
   "source": [
    "Visit Codeup's Blog and record the urls for at least 5 distinct blog posts. For each post, you should scrape at least the post's title and content.\n",
    "\n",
    "Encapsulate your work in a function named get_blog_articles that will return a list of dictionaries, with each dictionary representing one article. The shape of each dictionary should look like this:"
   ]
  },
  {
   "cell_type": "code",
   "execution_count": 12,
   "id": "8b5b2bea",
   "metadata": {},
   "outputs": [],
   "source": [
    "url = 'https://codeup.com/blog/'\n",
    "headers = {'User-Agent': 'Codeup Data Science'} # Some websites don't accept the pyhon-requests default user-agent\n",
    "# headers, change python request\n",
    "response = requests.get(url, headers=headers) \n"
   ]
  },
  {
   "cell_type": "code",
   "execution_count": 13,
   "id": "18f6a5a0",
   "metadata": {},
   "outputs": [],
   "source": [
    "# Make a soup variable holding the response content\n",
    "soup = BeautifulSoup(response.content, 'html.parser')"
   ]
  },
  {
   "cell_type": "code",
   "execution_count": 14,
   "id": "77091274",
   "metadata": {},
   "outputs": [],
   "source": [
    "# anchors, looking for more-link\n",
    "links = soup.find_all('a','more-link')"
   ]
  },
  {
   "cell_type": "code",
   "execution_count": 15,
   "id": "69878c02",
   "metadata": {},
   "outputs": [
    {
     "data": {
      "text/plain": [
       "'https://codeup.com/codeup-news/panelist-spotlight-4/'"
      ]
     },
     "execution_count": 15,
     "metadata": {},
     "output_type": "execute_result"
    }
   ],
   "source": [
    "# checkinng inside\n",
    "links[0]['href']"
   ]
  },
  {
   "cell_type": "code",
   "execution_count": 16,
   "id": "b7707008",
   "metadata": {},
   "outputs": [],
   "source": [
    "# creating empty list\n",
    "url = []"
   ]
  },
  {
   "cell_type": "code",
   "execution_count": 17,
   "id": "232b5e14",
   "metadata": {},
   "outputs": [],
   "source": [
    "# list of links\n",
    "for i in range(0,len(links)):\n",
    "    url_temp = (links[i]['href'])\n",
    "    \n",
    "    url.append(url_temp)"
   ]
  },
  {
   "cell_type": "code",
   "execution_count": 18,
   "id": "00df5ba2",
   "metadata": {},
   "outputs": [
    {
     "data": {
      "text/plain": [
       "'https://codeup.com/codeup-news/panelist-spotlight-4/'"
      ]
     },
     "execution_count": 18,
     "metadata": {},
     "output_type": "execute_result"
    }
   ],
   "source": [
    "# first url\n",
    "url[0]"
   ]
  },
  {
   "cell_type": "code",
   "execution_count": 19,
   "id": "1877c7e4",
   "metadata": {},
   "outputs": [],
   "source": [
    "# create headers for codeup\n",
    "headers = {'User-Agent': 'Codeup Data Science'}\n",
    "# create response\n",
    "response = get(url[0],headers = headers)"
   ]
  },
  {
   "cell_type": "code",
   "execution_count": 20,
   "id": "eff03048",
   "metadata": {},
   "outputs": [],
   "source": [
    "# Make a soup variable holding the response content\n",
    "soup = BeautifulSoup(response.content, 'html.parser')"
   ]
  },
  {
   "cell_type": "code",
   "execution_count": 21,
   "id": "efa38331",
   "metadata": {},
   "outputs": [
    {
     "data": {
      "text/plain": [
       "'Black Excellence in Tech: Panelist Spotlight - Wilmarie De La Cruz Mejia'"
      ]
     },
     "execution_count": 21,
     "metadata": {},
     "output_type": "execute_result"
    }
   ],
   "source": [
    "# title pull\n",
    "soup.title.string"
   ]
  },
  {
   "cell_type": "code",
   "execution_count": 22,
   "id": "dfcb712e",
   "metadata": {},
   "outputs": [
    {
     "data": {
      "text/plain": [
       "'https://codeup.com/codeup-news/panelist-spotlight-4/'"
      ]
     },
     "execution_count": 22,
     "metadata": {},
     "output_type": "execute_result"
    }
   ],
   "source": [
    "# testing url\n",
    "url[0]"
   ]
  },
  {
   "cell_type": "code",
   "execution_count": 39,
   "id": "05a6f715",
   "metadata": {},
   "outputs": [],
   "source": [
    "divs = soup.find_all('div',class_ = 'entry-content') "
   ]
  },
  {
   "cell_type": "code",
   "execution_count": 43,
   "id": "5a7bfc25",
   "metadata": {},
   "outputs": [
    {
     "name": "stdout",
     "output_type": "stream",
     "text": [
      "\n",
      "Black excellence in tech: Panelist Spotlight – Wilmarie De La Cruz Mejia\n",
      "\n",
      "Codeup is hosting a Black Excellence in Tech Panel in honor of Black History Month on February 22, 2023! To further celebrate, we’d like to spotlight each of our panelists leading up to the discussion to learn a bit about their respective experiences as black leaders in the tech industry!  \n",
      "Meet Wilmarie!\n",
      "Wilmarie De La Cruz Mejia is a current Codeup student on the path to becoming a Full-Stack Web Developer at our Dallas, TX campus. \n",
      "Wilmarie is a veteran expanding her knowledge of programming languages and technologies on her journey with Codeup. \n",
      "We asked Wilmarie to share more about her experience at Codeup. She shares, “I was able to meet other people who were passionate about coding and be in a positive learning environment.”\n",
      "We hope you can join us on February 22nd to sit in on an insightful conversation with Wilmarie and all of our panelists!\n",
      "\n"
     ]
    }
   ],
   "source": [
    "# Loop through the divs and extract the text content\n",
    "for div in divs:\n",
    "    text = div.text\n",
    "    print(text)"
   ]
  },
  {
   "cell_type": "code",
   "execution_count": 44,
   "id": "e1de1ff4",
   "metadata": {},
   "outputs": [
    {
     "data": {
      "text/plain": [
       "'\\nBlack excellence in tech: Panelist Spotlight – Wilmarie De La Cruz Mejia\\n\\nCodeup is hosting a Black Excellence in Tech Panel in honor of Black History Month on February 22, 2023! To further celebrate, we’d like to spotlight each of our panelists leading up to the discussion to learn a bit about their respective experiences as black leaders in the tech industry!\\xa0\\xa0\\nMeet Wilmarie!\\nWilmarie De\\xa0La Cruz Mejia is a current Codeup student on the path to becoming a Full-Stack Web Developer at our Dallas, TX campus.\\xa0\\nWilmarie is a veteran expanding her knowledge of programming languages and technologies on her journey with Codeup.\\xa0\\nWe asked Wilmarie to share more about her experience at Codeup. She shares, “I was able to meet other people who were passionate about coding and be in a positive learning environment.”\\nWe hope you can join us on February 22nd to sit in on an insightful conversation with Wilmarie and all of our panelists!\\n'"
      ]
     },
     "execution_count": 44,
     "metadata": {},
     "output_type": "execute_result"
    }
   ],
   "source": []
  },
  {
   "cell_type": "code",
   "execution_count": 47,
   "id": "776d65cb",
   "metadata": {},
   "outputs": [],
   "source": [
    "# function\n",
    "def get_blog_articles(urls):\n",
    "    # Initialize an empty list to store the dictionaries\n",
    "    articles = []\n",
    "\n",
    "    for url in urls:\n",
    "        # Send a GET request to the URL and store the response\n",
    "        response = requests.get(url,headers = headers)\n",
    "    \n",
    "        # Parse the response content using BeautifulSoup\n",
    "        soup = BeautifulSoup(response.content, 'html.parser')\n",
    "    \n",
    "        # Extract the title and content of the article\n",
    "        title = soup.title.string\n",
    "        divs = soup.find('div', class_='entry-content')\n",
    "        \n",
    "        # Loop through the divs and extract the text content\n",
    "        content = []\n",
    "        for div in divs:\n",
    "            text = div.text\n",
    "        \n",
    "            content.append(text)\n",
    "        \n",
    "        # Create a dictionary to store the title and content\n",
    "        article_dict = {'title': title, 'content': content}\n",
    "    \n",
    "        # Append the dictionary to the list of articles\n",
    "        articles.append(article_dict)\n",
    "    \n",
    "    # Return the list of dictionaries\n",
    "    return articles\n",
    "    "
   ]
  },
  {
   "cell_type": "code",
   "execution_count": 48,
   "id": "473fb2f7",
   "metadata": {},
   "outputs": [],
   "source": [
    "# call function\n",
    "articles = get_blog_articles(url)"
   ]
  },
  {
   "cell_type": "code",
   "execution_count": 49,
   "id": "07b55166",
   "metadata": {},
   "outputs": [
    {
     "data": {
      "text/plain": [
       "[{'title': 'Black Excellence in Tech: Panelist Spotlight - Wilmarie De La Cruz Mejia',\n",
       "  'content': ['\\n',\n",
       "   'Black excellence in tech: Panelist Spotlight – Wilmarie De La Cruz Mejia',\n",
       "   '\\n',\n",
       "   '',\n",
       "   '\\n',\n",
       "   'Codeup is hosting a Black Excellence in Tech Panel in honor of Black History Month on February 22, 2023! To further celebrate, we’d like to spotlight each of our panelists leading up to the discussion to learn a bit about their respective experiences as black leaders in the tech industry!\\xa0\\xa0',\n",
       "   '\\n',\n",
       "   'Meet Wilmarie!',\n",
       "   '\\n',\n",
       "   'Wilmarie De\\xa0La Cruz Mejia is a current Codeup student on the path to becoming a Full-Stack Web Developer at our Dallas, TX campus.\\xa0',\n",
       "   '\\n',\n",
       "   'Wilmarie is a veteran expanding her knowledge of programming languages and technologies on her journey with Codeup.\\xa0',\n",
       "   '\\n',\n",
       "   'We asked Wilmarie to share more about her experience at Codeup. She shares, “I was able to meet other people who were passionate about coding and be in a positive learning environment.”',\n",
       "   '\\n',\n",
       "   'We hope you can join us on February 22nd to sit in on an insightful conversation with Wilmarie and all of our panelists!',\n",
       "   '\\n']},\n",
       " {'title': 'Black excellence in tech: Panelist Spotlight - Stephanie Jones - Codeup',\n",
       "  'content': ['\\n',\n",
       "   'Black excellence in tech: Panelist Spotlight – Stephanie Jones',\n",
       "   '\\n',\n",
       "   'Codeup is hosting our second Black Excellence in Tech Panel in honor of Black History Month on February 22, 2023! To further celebrate, we’d like to spotlight each of our panelists leading up to the discussion to learn a bit about their respective experiences as black leaders in the tech industry!\\xa0\\xa0',\n",
       "   '\\n',\n",
       "   'Meet Stephanie!',\n",
       "   '\\n',\n",
       "   '',\n",
       "   '\\n',\n",
       "   'Stephanie Jones is an Alumna of Codeup’s Data Science Program (March 2022) and currently works as a Business Intelligence Developer for Victory Capital, a global investment management firm based in San Antonio, TX.\\xa0',\n",
       "   '\\n',\n",
       "   'Stephanie is passionate about visual storytelling and, as a late “tech bloomer,” is also an advocate for equitable access and educational opportunities in technology for underserved communities.',\n",
       "   '\\n',\n",
       "   'We asked Stephanie to share more about her experience at Codeup. She shares, “I have always been a creative and Codeup opened up a world of possibilities by exposing me to advanced technical concepts and career opportunities.” Stephanie also speaks to the community of support in the program and beyond.\\xa0 “The network and support from instructors, mentors, and peers began during the application phase (which was intense), before the program even started, and has carried over even after completing the program and entering into the workforce.”',\n",
       "   '\\n',\n",
       "   'We hope you can join us on February 22nd to sit in on an insightful conversation with Stephanie and all of our panelists!',\n",
       "   '\\n']},\n",
       " {'title': 'Black excellence in tech: Panelist Spotlight - James Cooper - Codeup',\n",
       "  'content': ['\\n',\n",
       "   'Black excellence in tech: Panelist Spotlight – James Cooper',\n",
       "   '\\n',\n",
       "   'Codeup is hosting our second Black Excellence in Tech Panel in honor of Black History Month on February 22, 2023! To further celebrate, we’d like to spotlight each of our panelists leading up to the discussion to learn a bit about their respective experiences as black leaders in the tech industry! ',\n",
       "   '\\n',\n",
       "   'Meet James!',\n",
       "   '\\n',\n",
       "   '',\n",
       "   '\\n',\n",
       "   'James Cooper is the Senior Placement Manager at Codeup, and will also be the Moderator for the Black Excellence in Tech Panel. James previously served as an Athletic Director in higher education and in that role his responsibilities included liaison for Title IX. As Title IX liaison, James oversaw complaints of discrimination and identifying and addressing any patterns or systemic problems that arose during the review of complaints. Additionally, he spent two years assisting the Department of Justice in building college campuses’ capacity to lessen violence against women, to administer justice for victims of domestic violence, dating violence, sexual assault, and stalking, and to increase services for those victims.',\n",
       "   '\\n',\n",
       "   'At Codeup, James helps students identify career opportunities and supply them with the necessary tools to ensure they are able to compete for those opportunities. We asked James about his experience at Codeup, he shared, “This is the first employer in my professional experiences that promotes true autonomy and community amongst its staff.”',\n",
       "   '\\n',\n",
       "   'James believes in his ability to overcome many obstacles and challenges and utilizes his lens and social construct towards the Human-Centered Approach to Service Delivery. He serves as an infinite example of thought provoking philosopher bridging gaps between academics, athletics and prioritizing the process of transitioning community assets and values for a sustainable legacy.',\n",
       "   '\\n',\n",
       "   'We hope you can join us on February 22nd to sit in on an insightful conversation with James and all of our panelists!',\n",
       "   '\\n']},\n",
       " {'title': 'Black excellence in tech: Panelist Spotlight - Jeanice Freeman - Codeup',\n",
       "  'content': ['\\n',\n",
       "   'Black excellence in tech: Panelist Spotlight – Jeanice freeman',\n",
       "   '\\n',\n",
       "   'Codeup is hosting our second Black Excellence in Tech Panel in honor of Black History Month on February 22, 2023! To further celebrate, we’d like to spotlight each of our panelists leading up to the discussion to learn a bit about their respective experiences as black leaders in the tech industry!',\n",
       "   '\\n',\n",
       "   'Meet Jeanice!',\n",
       "   '\\n',\n",
       "   'Jeanice Freeman is the Student Experience Specialist at Codeup, where her role is to provide support, advocacy, inclusivity, growth, and resources for students. Prior to Codeup, she worked in higher education, k-12 education, community development, and human services providing support, resources, training, development, and growth opportunities. She holds a B.S and M.S degree and is currently working on her Ed. D in Executive Leadership. She plans to continue doing what she loves as an educator and provide space and opportunities for adult learners to continue to grow.',\n",
       "   '\\n',\n",
       "   'We asked Jeanice about her experience with Codeup. She shared, “Codeup has allowed me to do what I love and create spaces for others to thrive and grow. I am able to work with diverse populations and provide support and development opportunities for non-traditional students. Codeup has also provided opportunities for my own growth and with that has become a special organization to be a part of.”',\n",
       "   '\\n',\n",
       "   'Don’t forget to tune in on February 22nd to sit in on an insightful conversation.',\n",
       "   '\\n']},\n",
       " {'title': 'Coding Bootcamp or Self-Learning? Which is Best for You?',\n",
       "  'content': ['\\n',\n",
       "   'If you’re interested in embarking on a career in tech, it is likely that you have taken a look into two learning paths: self-learning vs. coding bootcamps. But what are the differences?',\n",
       "   '\\n',\n",
       "   'Self-Learning',\n",
       "   '\\n',\n",
       "   'Many online institutions offer self-learning courses. This is becoming increasingly popular as students are becoming more aware of their individual learning styles, and value flexibility and self-paced programs.',\n",
       "   '\\n',\n",
       "   'Advantages of Self-Learning',\n",
       "   '\\n',\n",
       "   '\\nYou can form your instruction at times that best suit your needs and lifestyle\\nYou can purse your new path from the comfort of your home if you choose!\\nThere are many self-learning courses that offer flexible payment options\\n',\n",
       "   '\\n',\n",
       "   'Disadvantages of Self-Learning',\n",
       "   '\\n',\n",
       "   '\\nWorking alone can sometimes lead to a lack of motivation, requiring a great deal of strictness to remain on track\\nThere are no peers or instructors physically present to study with or ask questions\\n',\n",
       "   '\\n',\n",
       "   'Traditional Coding Bootcamp',\n",
       "   '\\n',\n",
       "   'Coding bootcamps have a reputation for being the accelerated path to launching a career in tech. This tends to work best for students that thrive off of structured learning, with a support team to assist throughout the process.',\n",
       "   '\\n',\n",
       "   'Advantages of Coding Bootcamps',\n",
       "   '\\n',\n",
       "   '\\nBootcamps are typically instructor-led meaning you have access to industry experts throughout your program to help you fully understand the material\\nYou and your peers will more than likely need to complete a project together before the end of your course. This will aid in forming connections with the next group of individuals to enter the tech industry (which is great for networking!)\\nTo employers, completing a program through a coding bootcamp looks phenomenal! This demonstrates your ability to commit to something complex and learn quickly.\\n',\n",
       "   '\\n',\n",
       "   'Disadvantages of Coding Bootcamps',\n",
       "   '\\n',\n",
       "   '\\nEvery piece of information covered in a coding bootcamp’s curriculum may not be imperative to your new role. A top goal of a bootcamp is to lay a good foundation for many possible careers. This means that if the curriculum covers pieces you may already know, or that do not exactly pertain to you, you will still need to be actively involved in the lessons.\\nIf you are someone who prefers to spend a lot of time absorbing information, you may not be given the opportunity to do so, given that a bootcamp has a structured curriculum with time frames for each topic.\\n',\n",
       "   '\\n',\n",
       "   'Both options have their advantages and disadvantages, but selecting which path is the correct choice for you should be based on your learning style and life circumstances.',\n",
       "   '\\n',\n",
       "   'Codeup',\n",
       "   '\\n',\n",
       "   'Codeup is the first, and currently the only accredited* coding bootcamp in Texas. Our program offerings range from 15 to 20 weeks and include: Full-Stack Web Development, Data Science and Cloud Administration. These programs are open to individuals of all backgrounds and experience levels.',\n",
       "   '\\n',\n",
       "   'When you decide to transition careers with Codeup, our commitment to you goes beyond class-time. You will have direct access to a support system including:',\n",
       "   '\\n',\n",
       "   '\\nAdmissions and financial aid managers\\nA student experience team\\nInstructors who are subject matter experts\\nA placement team looking to help you secure a job in-field once you graduate\\n',\n",
       "   '\\n',\n",
       "   'We also offer a tuition refund guarantee! We will refund your paid tuition back to you if you do not find a job in-field within six months of completing a Codeup program.',\n",
       "   '\\n',\n",
       "   'If this sounds like a good fit for you, use any of the following options to launch your career in tech!',\n",
       "   '\\n',\n",
       "   '\\nAttend a 100% free instructor-led workshop to try your hand at coding!\\nRequest more information on one or all of our programs\\nGet started now by filling out a quick form\\nSchedule time with an admissions manager to talk through the process\\n',\n",
       "   '\\n',\n",
       "   '*Codeup is accredited for postsecondary, non-degree granting, career and technology programs by the Middle States Commission on Secondary Schools of the Middle States Association of Colleges and Schools, 3624 Market Street, Philadelphia, PA 19104, (267) 284-5000',\n",
       "   '\\n']},\n",
       " {'title': 'Codeup Among Top 58 Best Coding Bootcamps of 2023 - Codeup',\n",
       "  'content': ['\\n',\n",
       "   'Codeup is pleased to announce we have been ranked among the 58 best coding bootcamps of 2023 by Course Report!',\n",
       "   '\\n',\n",
       "   'Course Report is a platform that has become essential in researching coding bootcamps over the last 10 years. Every year, Course Report shares a list of coding bootcamps worldwide that meet a high standard in their educational offerings. The following were factors in the decision-making process:',\n",
       "   '\\n',\n",
       "   '\\nAlumni and Student Reviews\\nTransparency Around Career Outcomes\\nSalary-Based Financing Options\\nSchool’s Operation Time\\nNumber of Campuses\\nSelectivity in the Application Process\\nVetted Lending Partnerships\\nThe Caliber of Career Support\\nCommitment to Diversity\\n',\n",
       "   '\\n',\n",
       "   'Codeup was highlighted for being an established school with transparent outcomes.',\n",
       "   '\\n',\n",
       "   'Course Report is primarily utilized by previous and potential students seeking information on coding bootcamps. Our outstanding alumni have shared their genuine experiences upon completing Codeup programs; anyone seeking information on Codeup can access their reviews!',\n",
       "   '\\n',\n",
       "   'A huge thank you goes to our alumni for sharing your journeys, the Codeup staff for continuing to deliver excellence, and Course Report for recognizing our school in this year’s rankings.',\n",
       "   '\\n',\n",
       "   '',\n",
       "   '\\n']}]"
      ]
     },
     "execution_count": 49,
     "metadata": {},
     "output_type": "execute_result"
    }
   ],
   "source": [
    "# contained in list\n",
    "articles"
   ]
  },
  {
   "cell_type": "markdown",
   "id": "04ee6d64",
   "metadata": {},
   "source": [
    "# 2. News Articles"
   ]
  },
  {
   "cell_type": "code",
   "execution_count": 69,
   "id": "7c1804e0",
   "metadata": {},
   "outputs": [],
   "source": [
    "# function\n",
    "def get_new_article_business():\n",
    "    \n",
    "    # Initialize an empty list to store the dictionaries\n",
    "    articles = []\n",
    "    url = 'https://blog.inshorts.com/2018/12/19/56-indians-are-satisfied-with-the-current-government-inshorts-pulse-of-the-nation-poll/'\n",
    "    \n",
    "    \n",
    "    # Send a GET request to the URL and store the response\n",
    "    response = requests.get(url,headers = headers)\n",
    "    \n",
    "    # Parse the response content using BeautifulSoup\n",
    "    soup = BeautifulSoup(response.content, 'html.parser')\n",
    "    \n",
    "    # Extract the title and content of the article\n",
    "    title = soup.title.string\n",
    "    content = soup.find('div', class_='entry-content').text\n",
    "    \n",
    "    # Create a dictionary to store the title and content\n",
    "    article_dict = {'title': title, 'content': content, 'category':'business'}\n",
    "    \n",
    "    # Append the dictionary to the list of articles\n",
    "    articles.append(article_dict)\n",
    "    \n",
    "    # Return the list of dictionaries\n",
    "    return articles"
   ]
  },
  {
   "cell_type": "code",
   "execution_count": 70,
   "id": "f3635194",
   "metadata": {},
   "outputs": [],
   "source": [
    "art = get_new_article_business()"
   ]
  },
  {
   "cell_type": "code",
   "execution_count": 71,
   "id": "0351200e",
   "metadata": {},
   "outputs": [
    {
     "data": {
      "text/plain": [
       "dict_keys(['title', 'content', 'category'])"
      ]
     },
     "execution_count": 71,
     "metadata": {},
     "output_type": "execute_result"
    }
   ],
   "source": [
    "art[0].keys()"
   ]
  },
  {
   "cell_type": "markdown",
   "id": "08a3d015",
   "metadata": {},
   "source": [
    "#### SPORTS"
   ]
  },
  {
   "cell_type": "code",
   "execution_count": 72,
   "id": "e051105d",
   "metadata": {},
   "outputs": [],
   "source": [
    "# function\n",
    "def get_new_article_sports():\n",
    "    \n",
    "    # Initialize an empty list to store the dictionaries\n",
    "    articles = []\n",
    "    url = 'https://blog.inshorts.com/2021/07/23/68-confident-india-will-improve-performance-at-tokyo-olympics-compared-to-rio-public-ki-awaaz-poll/'\n",
    "    \n",
    "    \n",
    "    # Send a GET request to the URL and store the response\n",
    "    response = requests.get(url,headers = headers)\n",
    "    \n",
    "    # Parse the response content using BeautifulSoup\n",
    "    soup = BeautifulSoup(response.content, 'html.parser')\n",
    "    \n",
    "    # Extract the title and content of the article\n",
    "    title = soup.title.string\n",
    "    content = soup.find('div', class_='entry-content').text\n",
    "    \n",
    "    # Create a dictionary to store the title and content\n",
    "    article_dict = {'title': title, 'content': content, 'category':'sports'}\n",
    "    \n",
    "    # Append the dictionary to the list of articles\n",
    "    articles.append(article_dict)\n",
    "    \n",
    "    # Return the list of dictionaries\n",
    "    return articles"
   ]
  },
  {
   "cell_type": "code",
   "execution_count": 73,
   "id": "27e3364d",
   "metadata": {},
   "outputs": [],
   "source": [
    "art = get_new_article_sports()"
   ]
  },
  {
   "cell_type": "code",
   "execution_count": 74,
   "id": "4973a910",
   "metadata": {},
   "outputs": [
    {
     "data": {
      "text/plain": [
       "dict_keys(['title', 'content', 'category'])"
      ]
     },
     "execution_count": 74,
     "metadata": {},
     "output_type": "execute_result"
    }
   ],
   "source": [
    "art[0].keys()"
   ]
  },
  {
   "cell_type": "markdown",
   "id": "600f3423",
   "metadata": {},
   "source": [
    "#### TECH"
   ]
  },
  {
   "cell_type": "code",
   "execution_count": 75,
   "id": "2c53bbd4",
   "metadata": {},
   "outputs": [],
   "source": [
    "# function\n",
    "def get_new_article_tech():\n",
    "    \n",
    "    # Initialize an empty list to store the dictionaries\n",
    "    articles = []\n",
    "    url = 'https://blog.inshorts.com/2021/01/14/47-find-whatsapps-updated-privacy-policy-unacceptable-says-inshorts-poll/'\n",
    "    \n",
    "    # Send a GET request to the URL and store the response\n",
    "    response = requests.get(url,headers = headers)\n",
    "    \n",
    "    # Parse the response content using BeautifulSoup\n",
    "    soup = BeautifulSoup(response.content, 'html.parser')\n",
    "    \n",
    "    # Extract the title and content of the article\n",
    "    title = soup.title.string\n",
    "    content = soup.find('div', class_='entry-content').text\n",
    "    \n",
    "    # Create a dictionary to store the title and content\n",
    "    article_dict = {'title': title, 'content': content, 'category':'tech'}\n",
    "    \n",
    "    # Append the dictionary to the list of articles\n",
    "    articles.append(article_dict)\n",
    "    \n",
    "    # Return the list of dictionaries\n",
    "    return articles"
   ]
  },
  {
   "cell_type": "code",
   "execution_count": 76,
   "id": "9ba5ce13",
   "metadata": {},
   "outputs": [],
   "source": [
    "art = get_new_article_tech()"
   ]
  },
  {
   "cell_type": "code",
   "execution_count": 77,
   "id": "43c84073",
   "metadata": {},
   "outputs": [
    {
     "data": {
      "text/plain": [
       "dict_keys(['title', 'content', 'category'])"
      ]
     },
     "execution_count": 77,
     "metadata": {},
     "output_type": "execute_result"
    }
   ],
   "source": [
    "art[0].keys()"
   ]
  },
  {
   "cell_type": "markdown",
   "id": "c5e20d35",
   "metadata": {},
   "source": [
    "#### entertainment"
   ]
  },
  {
   "cell_type": "code",
   "execution_count": 59,
   "id": "59c9c33b",
   "metadata": {},
   "outputs": [],
   "source": [
    "# function\n",
    "def get_new_article_ent():\n",
    "    \n",
    "    # Initialize an empty list to store the dictionaries\n",
    "    articles = []\n",
    "    url = 'https://blog.inshorts.com/2021/10/08/festivities-in-the-air-but-indians-still-cautious-with-money-public-app-survey/'\n",
    "    \n",
    "    # Send a GET request to the URL and store the response\n",
    "    response = requests.get(url,headers = headers)\n",
    "    \n",
    "    # Parse the response content using BeautifulSoup\n",
    "    soup = BeautifulSoup(response.content, 'html.parser')\n",
    "    \n",
    "    # Extract the title and content of the article\n",
    "    title = soup.title.string\n",
    "    content = soup.find('div', class_='entry-content').text\n",
    "    \n",
    "    # Create a dictionary to store the title and content\n",
    "    article_dict = {'title': title, 'content': content, 'category':'entertainment'}\n",
    "    \n",
    "    # Append the dictionary to the list of articles\n",
    "    articles.append(article_dict)\n",
    "    \n",
    "    # Return the list of dictionaries\n",
    "    return articles"
   ]
  },
  {
   "cell_type": "code",
   "execution_count": 60,
   "id": "5dda2f58",
   "metadata": {},
   "outputs": [],
   "source": [
    "art = get_new_article_ent()"
   ]
  },
  {
   "cell_type": "code",
   "execution_count": 61,
   "id": "fec18cc0",
   "metadata": {},
   "outputs": [
    {
     "data": {
      "text/plain": [
       "dict_keys(['title', 'content', 'category'])"
      ]
     },
     "execution_count": 61,
     "metadata": {},
     "output_type": "execute_result"
    }
   ],
   "source": [
    "art[0].keys()"
   ]
  }
 ],
 "metadata": {
  "kernelspec": {
   "display_name": "Python 3 (ipykernel)",
   "language": "python",
   "name": "python3"
  },
  "language_info": {
   "codemirror_mode": {
    "name": "ipython",
    "version": 3
   },
   "file_extension": ".py",
   "mimetype": "text/x-python",
   "name": "python",
   "nbconvert_exporter": "python",
   "pygments_lexer": "ipython3",
   "version": "3.9.13"
  }
 },
 "nbformat": 4,
 "nbformat_minor": 5
}
