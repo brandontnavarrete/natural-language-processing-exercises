{
 "cells": [
  {
   "cell_type": "code",
   "execution_count": 10,
   "id": "3b08ae7b",
   "metadata": {},
   "outputs": [],
   "source": [
    "import pandas as pd \n",
    "import numpy as np \n",
    "import os \n",
    "import requests\n",
    "from requests import get\n",
    "\n",
    "from bs4 import BeautifulSoup"
   ]
  },
  {
   "cell_type": "markdown",
   "id": "cdd4642b",
   "metadata": {},
   "source": [
    "# article "
   ]
  },
  {
   "cell_type": "markdown",
   "id": "defba8f4",
   "metadata": {},
   "source": [
    "https://codeup.com/data-science/math-in-data-science/"
   ]
  },
  {
   "cell_type": "code",
   "execution_count": 8,
   "id": "c431f3d1",
   "metadata": {},
   "outputs": [],
   "source": [
    "url = 'https://codeup.com/data-science/math-in-data-science/'\n",
    "headers = {'User-Agent': 'Codeup Data Science'} # Some websites don't accept the pyhon-requests default user-agent\n",
    "# headers, change python request\n",
    "response = requests.get(url, headers=headers) \n"
   ]
  },
  {
   "cell_type": "code",
   "execution_count": 13,
   "id": "909509db",
   "metadata": {},
   "outputs": [
    {
     "name": "stdout",
     "output_type": "stream",
     "text": [
      "<!DOCTYPE html>\n",
      "<html lang=\"en-US\">\n",
      "<head>\n",
      "\t<meta charset=\"UTF-8\" />\n",
      "<meta http-equiv=\"X-UA-Compatible\" content=\"IE=edge\">\n",
      "\t<link rel=\"pingback\" href=\"https://codeup.com/xmlrpc.php\" />\n",
      "\n",
      "\t<script type=\"text/javascript\">\n",
      "\t\tdocument.documentElement.className = 'js';\n",
      "\t</script>\n",
      "\t\n",
      "\t<link rel=\"preconnect\" href=\"https://fonts.gstatic.com\" crossorigin /><script id=\"diviarea-loader\">window.DiviPopupData=wi\n"
     ]
    }
   ],
   "source": [
    "print(response.text[:400])"
   ]
  },
  {
   "cell_type": "markdown",
   "id": "023fcf50",
   "metadata": {},
   "source": [
    "# Soup"
   ]
  },
  {
   "cell_type": "code",
   "execution_count": 17,
   "id": "66eb567b",
   "metadata": {},
   "outputs": [],
   "source": [
    "# Make a soup variable holding the response content\n",
    "soup = BeautifulSoup(response.content, 'html.parser')"
   ]
  },
  {
   "cell_type": "code",
   "execution_count": 19,
   "id": "40795649",
   "metadata": {},
   "outputs": [
    {
     "data": {
      "text/plain": [
       "'What are the Math and Stats Principles You Need for Data Science? -'"
      ]
     },
     "execution_count": 19,
     "metadata": {},
     "output_type": "execute_result"
    }
   ],
   "source": [
    "soup.title.string"
   ]
  },
  {
   "cell_type": "code",
   "execution_count": 22,
   "id": "f7a56c21",
   "metadata": {},
   "outputs": [
    {
     "data": {
      "text/plain": [
       "[<a href=\"https://codeup.com/\">Home</a>,\n",
       " <a href=\"https://codeup.com/program/cloud-adminsitration/\">Cloud Administration</a>,\n",
       " <a href=\"https://codeup.com/program/full-stack-web-development/\">Full Stack Web Development</a>,\n",
       " <a href=\"https://codeup.com/program/data-science/\">Data Science</a>,\n",
       " <a href=\"/events/\">Workshops</a>,\n",
       " <a href=\"/san-antonio-events/\">San Antonio</a>,\n",
       " <a href=\"/dallas-events/\">Dallas</a>,\n",
       " <a href=\"https://codeup.com/financial-aid/\">Financial Aid</a>,\n",
       " <a href=\"https://codeup.com/veterans/\">Military</a>,\n",
       " <a href=\"https://codeup.com/hire-tech-talent/\">Hire Tech Talent</a>,\n",
       " <a href=\"https://alumni.codeup.com/\">Alumni</a>,\n",
       " <a href=\"https://codeup.com/resources/\">Resources</a>,\n",
       " <a href=\"/my-story/\">Student Reviews</a>,\n",
       " <a href=\"https://codeup.com/blog/\">Blog</a>,\n",
       " <a href=\"https://codeup.com/frequently-asked-questions/\">Common Questions</a>,\n",
       " <a href=\"https://codeup.com/podcast/\">Hire Tech Podcast</a>,\n",
       " <a href=\"https://codeup.com/apply-now/\">Apply Now</a>,\n",
       " <a href=\"https://codeup.com/\">\n",
       " <img alt=\"Codeup\" class=\"main-logo normal-logo\" id=\"dm-logo\" src=\"https://tribucodeup.wpenginepowered.com/wp-content/uploads/2021/08/CodeupFullColorLogo.png\" title=\"\">\n",
       " </img></a>,\n",
       " <a href=\"/about-codeup/\">About</a>,\n",
       " <a href=\"/category/behind-the-billboards/\">Behind The Billboards</a>,\n",
       " <a href=\"/careers/\">Careers</a>,\n",
       " <a href=\"/index.php/\"><img alt=\"Codeup Best Coding Bootcamp\" class=\"wp-image-28\" decoding=\"async\" height=\"86\" loading=\"lazy\" src=\"https://tribucodeup.wpenginepowered.com/wp-content/uploads/2021/06/codeup_logo.png\" width=\"226\"/></a>,\n",
       " <a href=\"https://codeup.com/programs/\" title=\"Coding Programs\">Programs</a>,\n",
       " <a href=\"https://codeup.com/program/cloud-administration/\">Cloud Administration</a>,\n",
       " <a href=\"https://codeup.com/program/full-stack-web-development/\" title=\"Full Stack Web Development Bootcamp\">Web Development</a>,\n",
       " <a href=\"https://codeup.com/program/data-science/\" title=\"Data Science Bootcamp in Texas\">Data Science</a>,\n",
       " <a href=\"/financial-aid/\">Financing</a>,\n",
       " <a href=\"#\">Events</a>,\n",
       " <a href=\"https://codeup.com/san-antonio-events/\">San Antonio</a>,\n",
       " <a href=\"https://codeup.com/dallas-events/\">Dallas</a>,\n",
       " <a href=\"https://codeup.com/veterans/\">Military</a>,\n",
       " <a>Campuses</a>,\n",
       " <a href=\"https://codeup.com/san-antonio/\">San Antonio</a>,\n",
       " <a href=\"https://codeup.com/dallas/\">Dallas</a>,\n",
       " <a href=\"https://codeup.com/hire-tech-talent/\" title=\"Hire Diversified Tech Talent\">Hire</a>,\n",
       " <a href=\"https://codeup.com/hire-tech-talent/\">Employers</a>,\n",
       " <a href=\"https://alumni.codeup.com/\">Alumni Portal</a>,\n",
       " <a href=\"https://codeup.com/resources/\">Resources</a>,\n",
       " <a href=\"/my-story/\">Student Reviews</a>,\n",
       " <a href=\"https://codeup.com/blog/\">Blog</a>,\n",
       " <a href=\"https://codeup.com/frequently-asked-questions/\">Common Questions</a>,\n",
       " <a href=\"https://codeup.com/podcast/\">Hire Tech Podcast</a>,\n",
       " <a class=\"et_pb_button et_pb_button_0_tb_header et_pb_bg_layout_light\" href=\"/apply-now/\">Start Now</a>,\n",
       " <a href=\"https://codeup.com/category/data-science/\" rel=\"category tag\">Data Science</a>,\n",
       " <a href=\"https://codeup.com/codeups-application-process/\"><span style=\"font-weight: 400;\">application process</span></a>,\n",
       " <a href=\"https://codeup.com/apply-now\"><span style=\"font-weight: 400;\">apply!</span></a>,\n",
       " <a href=\"http://www.codeup.com/apply\">apply</a>,\n",
       " <a href=\"https://codeup.com/program/cloud-administration/\">Cloud Administration</a>,\n",
       " <a href=\"https://codeup.com/program/full-stack-web-development/\">Full Stack Web Development</a>,\n",
       " <a href=\"https://codeup.com/program/data-science/\">Data Science</a>,\n",
       " <a class=\"wp-block-latest-posts__post-title\" href=\"https://codeup.com/codeup-news/panelist-spotlight-4/\">Black Excellence in Tech: Panelist Spotlight – Wilmarie De La Cruz Mejia</a>,\n",
       " <a class=\"wp-block-latest-posts__post-title\" href=\"https://codeup.com/events/black-excellence-in-tech-panelist-spotlight-stephanie-jones/\">Black excellence in tech: Panelist Spotlight – Stephanie Jones</a>,\n",
       " <a class=\"wp-block-latest-posts__post-title\" href=\"https://codeup.com/events/black-excellence-in-tech-panelist-spotlight-james-cooper/\">Black excellence in tech: Panelist Spotlight – James Cooper</a>,\n",
       " <a class=\"wp-block-latest-posts__post-title\" href=\"https://codeup.com/events/black-excellence-in-tech-panelist-spotlight/\">Black excellence in tech: Panelist Spotlight – Jeanice Freeman</a>,\n",
       " <a class=\"wp-block-latest-posts__post-title\" href=\"https://codeup.com/tips-for-prospective-students/coding-bootcamp-or-self-learning/\">Coding Bootcamp or Self-Learning? Which is Best for You?</a>,\n",
       " <a class=\"et_pb_button et_pb_button_0_tb_footer et_pb_bg_layout_light\" href=\"/moreinfo/\">Request Information</a>,\n",
       " <a href=\"tel:12108027289\" title=\"call Codeup\">(210) 802–7289</a>,\n",
       " <a class=\"icon et_pb_with_border\" href=\"https://www.facebook.com/GoCodeup/\" target=\"_blank\" title=\"Follow on Facebook\"><span aria-hidden=\"true\" class=\"et_pb_social_media_follow_network_name\">Follow</span></a>,\n",
       " <a class=\"icon et_pb_with_border\" href=\"https://twitter.com/gocodeup\" target=\"_blank\" title=\"Follow on Twitter\"><span aria-hidden=\"true\" class=\"et_pb_social_media_follow_network_name\">Follow</span></a>,\n",
       " <a class=\"icon et_pb_with_border\" href=\"https://www.instagram.com/gocodeup/?hl=en\" target=\"_blank\" title=\"Follow on Instagram\"><span aria-hidden=\"true\" class=\"et_pb_social_media_follow_network_name\">Follow</span></a>,\n",
       " <a class=\"icon et_pb_with_border\" href=\"https://www.linkedin.com/school/3799914\" target=\"_blank\" title=\"Follow on LinkedIn\"><span aria-hidden=\"true\" class=\"et_pb_social_media_follow_network_name\">Follow</span></a>,\n",
       " <a class=\"icon et_pb_with_border\" href=\"/podcast/\" target=\"_blank\" title=\"Follow on RSS\"><span aria-hidden=\"true\" class=\"et_pb_social_media_follow_network_name\">Follow</span></a>,\n",
       " <a href=\"/dallas\">Dallas</a>,\n",
       " <a href=\"/san-antonio\">San Antonio</a>,\n",
       " <a href=\"/index.php/\"><span class=\"et_pb_image_wrap\"><img alt=\"quack quack\" class=\"wp-image-15815\" decoding=\"async\" height=\"256\" loading=\"lazy\" sizes=\"(max-width: 336px) 100vw, 336px\" src=\"https://tribucodeup.wpenginepowered.com/wp-content/uploads/2018/08/codey-1.png\" srcset=\"https://tribucodeup.wpenginepowered.com/wp-content/uploads/2018/08/codey-1.png 336w, https://tribucodeup.wpenginepowered.com/wp-content/uploads/2018/08/codey-1-300x229.png 300w\" title=\"Codey\" width=\"336\"/></span></a>,\n",
       " <a href=\"/why-codeup/\" title=\"About Codeup\">Why Codeup?</a>,\n",
       " <a href=\"/financial-aid/\" title=\"how to pay for bootcamp\">Financial Aid Options</a>,\n",
       " <a href=\"/my-story/\" title=\"Codeup Reviews\">Student Reviews</a>,\n",
       " <a href=\"/hire-tech-talent/\">Employers</a>,\n",
       " <a href=\"/refund/\" title=\"Codeup Refund Policy\">Refund Policy</a>,\n",
       " <a href=\"/frequently-asked-questions/\" title=\"frequently asked questions\">FAQs</a>,\n",
       " <a href=\"/careers/\" title=\"Jobs at Codeup\">Careers</a>,\n",
       " <a href=\"/pr/\" title=\"press assets for Codeup\">Media Kit</a>,\n",
       " <a href=\"/program/full-stack-web-development/\" title=\"coding bootcamp in Texas\">Full Stack Web Development</a>,\n",
       " <a href=\"/program/data-science/\" title=\"data science bootcamp in Texas\">Data Science</a>,\n",
       " <a href=\"/cloud-administration/\" title=\"learn Cloud Administration in Texas\">Cloud Administration</a>,\n",
       " <a href=\"/free/\" title=\"learn to code for free\">Free Networking Course</a>,\n",
       " <a class=\"et_pb_button et_pb_button_1_tb_footer et_pb_bg_layout_light\" href=\"/apply-now/\">Apply Now</a>,\n",
       " <a href=\"/privacy/\">Privacy Policy</a>,\n",
       " <a href=\"/student-complaint-policy/\" title=\"complaint policy\">Complaint Policy</a>,\n",
       " <a href=\"/codeup-news/inclusion-at-codeup-during-pride-month-and-always/\" title=\"DEI at Codeup\">Inclusion</a>,\n",
       " <a href=\"/accessibility/\">Accessibility</a>,\n",
       " <a href=\"/sitemap_index.xml\">Sitemap</a>,\n",
       " <a class=\"wt-cli-ccpa-opt-out\" style=\"color:#333333\">No worries, we do not sell your personal information.</a>,\n",
       " <a class=\"medium cli-plugin-button cli-plugin-main-button cli_settings_button\" role=\"button\" style=\"margin:0px 10px 0px 5px\">Cookie Settings</a>,\n",
       " <a class=\"medium cli-plugin-button cli-plugin-main-button cookie_action_close_header cli_action_button wt-cli-accept-btn\" data-cli_action=\"accept\" id=\"cookie_action_close_header\" role=\"button\" style=\"display:inline-block\">Accept</a>,\n",
       " <a aria-label=\"Show more\" class=\"cli-privacy-readmore\" data-readless-text=\"Show less\" data-readmore-text=\"Show more\" role=\"button\"></a>,\n",
       " <a class=\"cli-nav-link cli-settings-mobile\" data-target=\"necessary\" data-toggle=\"cli-toggle-tab\" role=\"button\" tabindex=\"0\">\n",
       " \t\t\t\t\t\t\t\tNecessary\t\t\t\t\t\t\t</a>,\n",
       " <a class=\"cli-nav-link cli-settings-mobile\" data-target=\"functional\" data-toggle=\"cli-toggle-tab\" role=\"button\" tabindex=\"0\">\n",
       " \t\t\t\t\t\t\t\tFunctional\t\t\t\t\t\t\t</a>,\n",
       " <a class=\"cli-nav-link cli-settings-mobile\" data-target=\"performance\" data-toggle=\"cli-toggle-tab\" role=\"button\" tabindex=\"0\">\n",
       " \t\t\t\t\t\t\t\tPerformance\t\t\t\t\t\t\t</a>,\n",
       " <a class=\"cli-nav-link cli-settings-mobile\" data-target=\"analytics\" data-toggle=\"cli-toggle-tab\" role=\"button\" tabindex=\"0\">\n",
       " \t\t\t\t\t\t\t\tAnalytics\t\t\t\t\t\t\t</a>,\n",
       " <a class=\"cli-nav-link cli-settings-mobile\" data-target=\"advertisement\" data-toggle=\"cli-toggle-tab\" role=\"button\" tabindex=\"0\">\n",
       " \t\t\t\t\t\t\t\tAdvertisement\t\t\t\t\t\t\t</a>,\n",
       " <a class=\"cli-nav-link cli-settings-mobile\" data-target=\"others\" data-toggle=\"cli-toggle-tab\" role=\"button\" tabindex=\"0\">\n",
       " \t\t\t\t\t\t\t\tOthers\t\t\t\t\t\t\t</a>,\n",
       " <a class=\"wt-cli-privacy-btn cli_setting_save_button wt-cli-privacy-accept-btn cli-btn\" data-cli-action=\"accept\" id=\"wt-cli-privacy-save-btn\" role=\"button\" tabindex=\"0\">SAVE &amp; ACCEPT</a>]"
      ]
     },
     "execution_count": 22,
     "metadata": {},
     "output_type": "execute_result"
    }
   ],
   "source": [
    "soup.find_all(\"a\")"
   ]
  },
  {
   "cell_type": "code",
   "execution_count": 25,
   "id": "d8bbd55d",
   "metadata": {},
   "outputs": [],
   "source": [
    "article = soup.find('div', id='main-content')"
   ]
  },
  {
   "cell_type": "code",
   "execution_count": 27,
   "id": "1e4ce076",
   "metadata": {},
   "outputs": [
    {
     "data": {
      "text/plain": [
       "'\\n\\n\\n\\n\\n\\nWhat are the Math and Stats Principles You Need for Data Science?\\nOct 21, 2020 | Data Science\\n\\n\\nComing into our Data Science program, you will need to know some math and stats. However, many of our applicants actually learn in the application process – you don’t need to be an expert before applying! Data science is a very accessible field to anyone dedicated to learning new skills, and we can work with any applicant to help them learn what they need to know. But what “skills” do we mean, exactly? Just what exactly are the data science math and stats principles you need to know?\\nWhat are the main math principles you need to know to get into Codeup’s Data Science program?\\n\\n\\nAlgebra\\nDo you know PEMDAS and can you solve for x? You will need to be or become comfortable with the following:\\xa0\\n\\nVariables (x, y, n, etc.)\\nFormulas, functions, and variable manipulations (e.g. x^2 = x + 6, solve for x).\\nOrder of evaluation: PEMDAS: parentheses, exponents, then multiplication, division, addition, and subtraction\\nCommutativity where a + b = b + a\\nAssociativity where a + (b + c) = (a + b) + c\\nAdding and subtracting matrices\\nA conceptual understanding of exponential growth/decay- things can increase at an increasing rate\\n\\nDescriptive Statistics\\nKnow what a min, max, mode, median, and average are. Have a conceptual understanding that stats/probability is about trying to quantify uncertainty.\\nData Visualization\\nKnow what a scatterplot is and how to read a barplot.\\nHow to Learn and Expand on These Concepts\\nThere are a number of great resources out there to teach you these and similar concepts. Khan Academy is a great starting place for data science math! If you want to know what exactly we assign our applicants, you’ll just have to apply!\\n\\xa0\\nWhat about once you’re in Codeup?\\n\\n\\nWhat You Won’t Do\\nDo we do any mathematical proofs for concepts or perform derivations? No.\\xa0\\nDo we do any calculus and probability calculating by hand? No.\\nAre we transforming equations, where we cancel out units or terms and do lots of algebraic gymnastics? No\\nWhat You Will Do\\nWill we have Python solve our linear algebra problems for us? Yes\\nWill we have Python calculate probabilities, the area under a curve, and the slope of a line for us? Yes\\nWill we have Python do all of the calculus for us? Yes\\n\\xa0\\nSee, the data science math and stats slice of the pie is certainly doable. If you like problem-solving and are ready to challenge yourself, you’ll love data science! If you are interested in learning about data science, just apply! Our Admissions Manager can work with you to get you where you need to be starting from where you are now. Let us help you get there so you can launch a great new career.\\n\\n\\n\\n\\n\\n\\n\\n\\nOur ProgramsCloud Administration\\nFull Stack Web Development\\nData Science\\n\\n\\n\\n\\n\\nLatest Blog Articles\\nBlack Excellence in Tech: Panelist Spotlight – Wilmarie De La Cruz Mejia\\nBlack excellence in tech: Panelist Spotlight – Stephanie Jones\\nBlack excellence in tech: Panelist Spotlight – James Cooper\\nBlack excellence in tech: Panelist Spotlight – Jeanice Freeman\\nCoding Bootcamp or Self-Learning? Which is Best for You?\\n\\n\\n\\n\\n\\n\\n\\n\\n\\n\\n\\n\\n\\n\\n\\n\\n\\n \\n\\n\\n'"
      ]
     },
     "execution_count": 27,
     "metadata": {},
     "output_type": "execute_result"
    }
   ],
   "source": [
    "article.text"
   ]
  },
  {
   "cell_type": "markdown",
   "id": "96917c2e",
   "metadata": {},
   "source": [
    "# store text"
   ]
  },
  {
   "cell_type": "code",
   "execution_count": 29,
   "id": "46273b8d",
   "metadata": {},
   "outputs": [],
   "source": [
    "with open('article.txt', 'w') as f:\n",
    "    f.write(article.text)"
   ]
  },
  {
   "cell_type": "code",
   "execution_count": 31,
   "id": "eb6aea86",
   "metadata": {},
   "outputs": [],
   "source": [
    "def get_article_text():\n",
    "    # if we already have the data, read it locally\n",
    "    if path.exists('article.txt'):\n",
    "        with open('article.txt') as f:\n",
    "            return f.read()\n",
    "\n",
    "    # otherwise go fetch the data\n",
    "    url = 'https://codeup.com/data-science/math-in-data-science/'\n",
    "    headers = {'User-Agent': 'Codeup Data Science'}\n",
    "    response = get(url, headers=headers)\n",
    "    soup = BeautifulSoup(response.text)\n",
    "    article = soup.find('div', id='main-content')\n",
    "\n",
    "    # save it for next time\n",
    "    with open('article.txt', 'w') as f:\n",
    "        f.write(article.text)\n",
    "\n",
    "    return article.text"
   ]
  },
  {
   "cell_type": "markdown",
   "id": "88a7c3b8",
   "metadata": {},
   "source": [
    "# Exercises"
   ]
  },
  {
   "cell_type": "markdown",
   "id": "055e49b0",
   "metadata": {},
   "source": [
    "#### 1. Codeup Blog Articles"
   ]
  },
  {
   "cell_type": "markdown",
   "id": "7e0d11f6",
   "metadata": {},
   "source": [
    "Visit Codeup's Blog and record the urls for at least 5 distinct blog posts. For each post, you should scrape at least the post's title and content.\n",
    "\n",
    "Encapsulate your work in a function named get_blog_articles that will return a list of dictionaries, with each dictionary representing one article. The shape of each dictionary should look like this:"
   ]
  },
  {
   "cell_type": "code",
   "execution_count": 33,
   "id": "8b5b2bea",
   "metadata": {},
   "outputs": [],
   "source": [
    "url = 'https://codeup.com/blog/'\n",
    "headers = {'User-Agent': 'Codeup Data Science'} # Some websites don't accept the pyhon-requests default user-agent\n",
    "# headers, change python request\n",
    "response = requests.get(url, headers=headers) \n"
   ]
  },
  {
   "cell_type": "code",
   "execution_count": 34,
   "id": "18f6a5a0",
   "metadata": {},
   "outputs": [],
   "source": [
    "# Make a soup variable holding the response content\n",
    "soup = BeautifulSoup(response.content, 'html.parser')"
   ]
  },
  {
   "cell_type": "code",
   "execution_count": 53,
   "id": "77091274",
   "metadata": {},
   "outputs": [],
   "source": [
    "# anchors, looking for more-link\n",
    "links = soup.find_all('a','more-link')"
   ]
  },
  {
   "cell_type": "code",
   "execution_count": 63,
   "id": "69878c02",
   "metadata": {},
   "outputs": [
    {
     "data": {
      "text/plain": [
       "'https://codeup.com/codeup-news/panelist-spotlight-4/'"
      ]
     },
     "execution_count": 63,
     "metadata": {},
     "output_type": "execute_result"
    }
   ],
   "source": [
    "# checkinng inside\n",
    "links[0]['href']"
   ]
  },
  {
   "cell_type": "code",
   "execution_count": 76,
   "id": "b7707008",
   "metadata": {},
   "outputs": [],
   "source": [
    "# creating empty list\n",
    "url = []"
   ]
  },
  {
   "cell_type": "code",
   "execution_count": 78,
   "id": "232b5e14",
   "metadata": {},
   "outputs": [],
   "source": [
    "# list of links\n",
    "for i in range(0,len(links)):\n",
    "    url_temp = (links[i]['href'])\n",
    "    \n",
    "    url.append(url_temp)"
   ]
  },
  {
   "cell_type": "code",
   "execution_count": 82,
   "id": "00df5ba2",
   "metadata": {},
   "outputs": [
    {
     "data": {
      "text/plain": [
       "'https://codeup.com/codeup-news/panelist-spotlight-4/'"
      ]
     },
     "execution_count": 82,
     "metadata": {},
     "output_type": "execute_result"
    }
   ],
   "source": [
    "# first url\n",
    "url[0]"
   ]
  },
  {
   "cell_type": "code",
   "execution_count": 86,
   "id": "1877c7e4",
   "metadata": {},
   "outputs": [],
   "source": [
    "# create headers for codeup\n",
    "headers = {'User-Agent': 'Codeup Data Science'}\n",
    "# create response\n",
    "response = get(url[0],headers = headers)"
   ]
  },
  {
   "cell_type": "code",
   "execution_count": 88,
   "id": "eff03048",
   "metadata": {},
   "outputs": [],
   "source": [
    "# Make a soup variable holding the response content\n",
    "soup = BeautifulSoup(response.content, 'html.parser')"
   ]
  },
  {
   "cell_type": "code",
   "execution_count": 90,
   "id": "efa38331",
   "metadata": {},
   "outputs": [
    {
     "data": {
      "text/plain": [
       "'Black Excellence in Tech: Panelist Spotlight - Wilmarie De La Cruz Mejia'"
      ]
     },
     "execution_count": 90,
     "metadata": {},
     "output_type": "execute_result"
    }
   ],
   "source": [
    "# title pull\n",
    "soup.title.string"
   ]
  },
  {
   "cell_type": "code",
   "execution_count": 94,
   "id": "dfcb712e",
   "metadata": {},
   "outputs": [
    {
     "data": {
      "text/plain": [
       "'https://codeup.com/codeup-news/panelist-spotlight-4/'"
      ]
     },
     "execution_count": 94,
     "metadata": {},
     "output_type": "execute_result"
    }
   ],
   "source": [
    "# testing url\n",
    "url[0]"
   ]
  },
  {
   "cell_type": "code",
   "execution_count": 110,
   "id": "05a6f715",
   "metadata": {
    "collapsed": true
   },
   "outputs": [
    {
     "data": {
      "text/plain": [
       "[<div class=\"entry-content\">\n",
       " <h2>Black excellence in tech: Panelist Spotlight – Wilmarie De La Cruz Mejia</h2>\n",
       " <p><img alt=\"panelist spotlight\" class=\"wp-image-19633 alignleft\" decoding=\"async\" height=\"131\" src=\"https://tribucodeup.wpenginepowered.com/wp-content/uploads/2023/02/AC8DABF2-2FDC-4C5A-A9B2-22EBCA4187AD-296x300.jpeg\" width=\"129\"/></p>\n",
       " <p><span style=\"font-weight: 400;\">Codeup is hosting a Black Excellence in Tech Panel in honor of Black History Month on February 22, 2023! To further celebrate, we’d like to spotlight each of our panelists leading up to the discussion to learn a bit about their respective experiences as black leaders in the tech industry!  </span></p>\n",
       " <p><strong>Meet Wilmarie!</strong></p>\n",
       " <p><a href=\"https://www.linkedin.com/in/wilmarie-de-la-cruz-b91338162/\"><span style=\"font-weight: 400;\">Wilmarie De</span></a><a href=\"https://www.linkedin.com/in/wilmarie-de-la-cruz-b91338162/\"><span style=\"font-weight: 400;\"> La Cruz Mejia</span></a><span style=\"font-weight: 400;\"> is a current Codeup student on the path to becoming a Full-Stack Web Developer at our Dallas, TX campus. </span></p>\n",
       " <p><span style=\"font-weight: 400;\">Wilmarie is a veteran expanding her knowledge of programming languages and technologies on her journey with Codeup. </span></p>\n",
       " <p><span style=\"font-weight: 400;\">We asked Wilmarie to share more about her experience at Codeup. She shares, “</span><span style=\"font-weight: 400;\">I was able to meet other people who were passionate about coding and be in a positive learning environment.”</span></p>\n",
       " <p><span style=\"font-weight: 400;\">We hope you can <a href=\"https://codeup.com/event/codeup-black-excellence-in-tech-panel-discussion/\">join us</a> on February 22nd to sit in on an insightful conversation with Wilmarie and all of our panelists!</span></p>\n",
       " </div>]"
      ]
     },
     "execution_count": 110,
     "metadata": {},
     "output_type": "execute_result"
    }
   ],
   "source": [
    "soup.find_all('div',class_ = 'entry-content')"
   ]
  },
  {
   "cell_type": "code",
   "execution_count": 175,
   "id": "776d65cb",
   "metadata": {},
   "outputs": [],
   "source": [
    "# function\n",
    "def get_blog_articles(urls):\n",
    "    # Initialize an empty list to store the dictionaries\n",
    "    articles = []\n",
    "\n",
    "    for url in urls:\n",
    "        # Send a GET request to the URL and store the response\n",
    "        response = requests.get(url,headers = headers)\n",
    "    \n",
    "        # Parse the response content using BeautifulSoup\n",
    "        soup = BeautifulSoup(response.content, 'html.parser')\n",
    "    \n",
    "        # Extract the title and content of the article\n",
    "        title = soup.title.string\n",
    "        content = soup.find('div', class_='entry-content')\n",
    "    \n",
    "        # Create a dictionary to store the title and content\n",
    "        article_dict = {'title': title, 'content': content}\n",
    "    \n",
    "        # Append the dictionary to the list of articles\n",
    "        articles.append(article_dict)\n",
    "    \n",
    "    # Return the list of dictionaries\n",
    "    return articles\n",
    "    "
   ]
  },
  {
   "cell_type": "code",
   "execution_count": 176,
   "id": "473fb2f7",
   "metadata": {},
   "outputs": [],
   "source": [
    "# call function\n",
    "articles = get_blog_articles(url)"
   ]
  },
  {
   "cell_type": "code",
   "execution_count": 194,
   "id": "07b55166",
   "metadata": {},
   "outputs": [
    {
     "data": {
      "text/plain": [
       "dict_keys(['title', 'content'])"
      ]
     },
     "execution_count": 194,
     "metadata": {},
     "output_type": "execute_result"
    }
   ],
   "source": [
    "# contained in list\n",
    "articles[5].keys()"
   ]
  },
  {
   "cell_type": "markdown",
   "id": "04ee6d64",
   "metadata": {},
   "source": [
    "# 2. News Articles"
   ]
  },
  {
   "cell_type": "code",
   "execution_count": 229,
   "id": "7c1804e0",
   "metadata": {},
   "outputs": [],
   "source": [
    "# function\n",
    "def get_new_article_business():\n",
    "    \n",
    "    # Initialize an empty list to store the dictionaries\n",
    "    articles = []\n",
    "    url = 'https://blog.inshorts.com/2018/12/19/56-indians-are-satisfied-with-the-current-government-inshorts-pulse-of-the-nation-poll/'\n",
    "    \n",
    "    \n",
    "    # Send a GET request to the URL and store the response\n",
    "    response = requests.get(url,headers = headers)\n",
    "    \n",
    "    # Parse the response content using BeautifulSoup\n",
    "    soup = BeautifulSoup(response.content, 'html.parser')\n",
    "    \n",
    "    # Extract the title and content of the article\n",
    "    title = soup.title.string\n",
    "    content = soup.find('div', class_='entry-content')\n",
    "    \n",
    "    # Create a dictionary to store the title and content\n",
    "    article_dict = {'title': title, 'content': content, 'category':'business'}\n",
    "    \n",
    "    # Append the dictionary to the list of articles\n",
    "    articles.append(article_dict)\n",
    "    \n",
    "    # Return the list of dictionaries\n",
    "    return articles"
   ]
  },
  {
   "cell_type": "code",
   "execution_count": 230,
   "id": "f3635194",
   "metadata": {},
   "outputs": [],
   "source": [
    "art = get_new_article_business()"
   ]
  },
  {
   "cell_type": "code",
   "execution_count": 232,
   "id": "0351200e",
   "metadata": {},
   "outputs": [
    {
     "data": {
      "text/plain": [
       "dict_keys(['title', 'content', 'category'])"
      ]
     },
     "execution_count": 232,
     "metadata": {},
     "output_type": "execute_result"
    }
   ],
   "source": [
    "art[0].keys()"
   ]
  },
  {
   "cell_type": "markdown",
   "id": "08a3d015",
   "metadata": {},
   "source": [
    "#### SPORTS"
   ]
  },
  {
   "cell_type": "code",
   "execution_count": 223,
   "id": "e051105d",
   "metadata": {},
   "outputs": [],
   "source": [
    "# function\n",
    "def get_new_article_sports():\n",
    "    \n",
    "    # Initialize an empty list to store the dictionaries\n",
    "    articles = []\n",
    "    url = 'https://blog.inshorts.com/2021/07/23/68-confident-india-will-improve-performance-at-tokyo-olympics-compared-to-rio-public-ki-awaaz-poll/'\n",
    "    \n",
    "    \n",
    "    # Send a GET request to the URL and store the response\n",
    "    response = requests.get(url,headers = headers)\n",
    "    \n",
    "    # Parse the response content using BeautifulSoup\n",
    "    soup = BeautifulSoup(response.content, 'html.parser')\n",
    "    \n",
    "    # Extract the title and content of the article\n",
    "    title = soup.title.string\n",
    "    content = soup.find('div', class_='entry-content')\n",
    "    \n",
    "    # Create a dictionary to store the title and content\n",
    "    article_dict = {'title': title, 'content': content, 'category':'sports'}\n",
    "    \n",
    "    # Append the dictionary to the list of articles\n",
    "    articles.append(article_dict)\n",
    "    \n",
    "    # Return the list of dictionaries\n",
    "    return articles"
   ]
  },
  {
   "cell_type": "code",
   "execution_count": 224,
   "id": "27e3364d",
   "metadata": {},
   "outputs": [],
   "source": [
    "art = get_new_article_sports()"
   ]
  },
  {
   "cell_type": "code",
   "execution_count": 225,
   "id": "4973a910",
   "metadata": {},
   "outputs": [
    {
     "data": {
      "text/plain": [
       "dict_keys(['title', 'content', 'category'])"
      ]
     },
     "execution_count": 225,
     "metadata": {},
     "output_type": "execute_result"
    }
   ],
   "source": [
    "art[0].keys()"
   ]
  },
  {
   "cell_type": "markdown",
   "id": "600f3423",
   "metadata": {},
   "source": [
    "#### TECH"
   ]
  },
  {
   "cell_type": "code",
   "execution_count": 226,
   "id": "2c53bbd4",
   "metadata": {},
   "outputs": [],
   "source": [
    "# function\n",
    "def get_new_article_tech():\n",
    "    \n",
    "    # Initialize an empty list to store the dictionaries\n",
    "    articles = []\n",
    "    url = 'https://blog.inshorts.com/2021/01/14/47-find-whatsapps-updated-privacy-policy-unacceptable-says-inshorts-poll/'\n",
    "    \n",
    "    # Send a GET request to the URL and store the response\n",
    "    response = requests.get(url,headers = headers)\n",
    "    \n",
    "    # Parse the response content using BeautifulSoup\n",
    "    soup = BeautifulSoup(response.content, 'html.parser')\n",
    "    \n",
    "    # Extract the title and content of the article\n",
    "    title = soup.title.string\n",
    "    content = soup.find('div', class_='entry-content')\n",
    "    \n",
    "    # Create a dictionary to store the title and content\n",
    "    article_dict = {'title': title, 'content': content, 'category':'tech'}\n",
    "    \n",
    "    # Append the dictionary to the list of articles\n",
    "    articles.append(article_dict)\n",
    "    \n",
    "    # Return the list of dictionaries\n",
    "    return articles"
   ]
  },
  {
   "cell_type": "code",
   "execution_count": 227,
   "id": "9ba5ce13",
   "metadata": {},
   "outputs": [],
   "source": [
    "art = get_new_article_tech()"
   ]
  },
  {
   "cell_type": "code",
   "execution_count": 228,
   "id": "43c84073",
   "metadata": {},
   "outputs": [
    {
     "data": {
      "text/plain": [
       "dict_keys(['title', 'content', 'category'])"
      ]
     },
     "execution_count": 228,
     "metadata": {},
     "output_type": "execute_result"
    }
   ],
   "source": [
    "art[0].keys()"
   ]
  },
  {
   "cell_type": "markdown",
   "id": "c5e20d35",
   "metadata": {},
   "source": [
    "#### entertainment"
   ]
  },
  {
   "cell_type": "code",
   "execution_count": 241,
   "id": "59c9c33b",
   "metadata": {},
   "outputs": [],
   "source": [
    "# function\n",
    "def get_new_article_ent():\n",
    "    \n",
    "    # Initialize an empty list to store the dictionaries\n",
    "    articles = []\n",
    "    url = 'https://blog.inshorts.com/2021/10/08/festivities-in-the-air-but-indians-still-cautious-with-money-public-app-survey/'\n",
    "    \n",
    "    # Send a GET request to the URL and store the response\n",
    "    response = requests.get(url,headers = headers)\n",
    "    \n",
    "    # Parse the response content using BeautifulSoup\n",
    "    soup = BeautifulSoup(response.content, 'html.parser')\n",
    "    \n",
    "    # Extract the title and content of the article\n",
    "    title = soup.title.string\n",
    "    content = soup.find('div', class_='entry-content')\n",
    "    \n",
    "    # Create a dictionary to store the title and content\n",
    "    article_dict = {'title': title, 'content': content, 'category':'entertainment'}\n",
    "    \n",
    "    # Append the dictionary to the list of articles\n",
    "    articles.append(article_dict)\n",
    "    \n",
    "    # Return the list of dictionaries\n",
    "    return articles"
   ]
  },
  {
   "cell_type": "code",
   "execution_count": 242,
   "id": "5dda2f58",
   "metadata": {},
   "outputs": [],
   "source": [
    "art = get_new_article_ent()"
   ]
  },
  {
   "cell_type": "code",
   "execution_count": 243,
   "id": "fec18cc0",
   "metadata": {},
   "outputs": [
    {
     "data": {
      "text/plain": [
       "dict_keys(['title', 'content', 'category'])"
      ]
     },
     "execution_count": 243,
     "metadata": {},
     "output_type": "execute_result"
    }
   ],
   "source": [
    "art[0].keys()"
   ]
  },
  {
   "cell_type": "code",
   "execution_count": null,
   "id": "8d58c069",
   "metadata": {},
   "outputs": [],
   "source": []
  }
 ],
 "metadata": {
  "kernelspec": {
   "display_name": "Python 3 (ipykernel)",
   "language": "python",
   "name": "python3"
  },
  "language_info": {
   "codemirror_mode": {
    "name": "ipython",
    "version": 3
   },
   "file_extension": ".py",
   "mimetype": "text/x-python",
   "name": "python",
   "nbconvert_exporter": "python",
   "pygments_lexer": "ipython3",
   "version": "3.9.13"
  }
 },
 "nbformat": 4,
 "nbformat_minor": 5
}
