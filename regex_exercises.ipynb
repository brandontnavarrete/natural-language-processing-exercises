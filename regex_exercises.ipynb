{
 "cells": [
  {
   "cell_type": "markdown",
   "id": "a16b3e65",
   "metadata": {},
   "source": [
    "# regex_exercises"
   ]
  },
  {
   "cell_type": "code",
   "execution_count": 16,
   "id": "2edff7e9",
   "metadata": {},
   "outputs": [],
   "source": [
    "import pandas as pd \n",
    "import numpy as np\n",
    "import re"
   ]
  },
  {
   "cell_type": "markdown",
   "id": "ab6c93b2",
   "metadata": {},
   "source": [
    "# Write a function named is_vowel. It should accept a string as input and use a regular expression to determine if the passed string is a vowel. While not explicity mentioned in the lesson, you can treat the result of re.search as a boolean value that indicates whether or not the regular expression matches the given string."
   ]
  },
  {
   "cell_type": "code",
   "execution_count": 2,
   "id": "70f6d787",
   "metadata": {},
   "outputs": [],
   "source": [
    "def is_vowel(string):\n",
    "                    \n",
    "        capture = re.findall(r\"[aeiouAEIOU]\",string)  \n",
    "        \n",
    "        if capture == []:\n",
    "            return False\n",
    "        else: \n",
    "            return True\n",
    "        "
   ]
  },
  {
   "cell_type": "code",
   "execution_count": 3,
   "id": "e8f339fd",
   "metadata": {},
   "outputs": [
    {
     "data": {
      "text/plain": [
       "True"
      ]
     },
     "execution_count": 3,
     "metadata": {},
     "output_type": "execute_result"
    }
   ],
   "source": [
    "is_vowel('a') \n"
   ]
  },
  {
   "cell_type": "code",
   "execution_count": 4,
   "id": "dd936b96",
   "metadata": {},
   "outputs": [
    {
     "data": {
      "text/plain": [
       "False"
      ]
     },
     "execution_count": 4,
     "metadata": {},
     "output_type": "execute_result"
    }
   ],
   "source": [
    "is_vowel('z') \n"
   ]
  },
  {
   "cell_type": "markdown",
   "id": "9f9ca4cb",
   "metadata": {},
   "source": [
    "# Write a function named is_valid_username that accepts a string as input. A valid username starts with a lowercase letter, and only consists of lowercase letters, numbers, or the _ character. It should also be no longer than 32 characters. The function should return either True or False depending on whether the passed string is a valid username."
   ]
  },
  {
   "cell_type": "code",
   "execution_count": null,
   "id": "0d694862",
   "metadata": {},
   "outputs": [],
   "source": []
  },
  {
   "cell_type": "code",
   "execution_count": 5,
   "id": "1ab6080d",
   "metadata": {},
   "outputs": [
    {
     "data": {
      "text/plain": [
       "[]"
      ]
     },
     "execution_count": 5,
     "metadata": {},
     "output_type": "execute_result"
    }
   ],
   "source": [
    "re.findall(r'[A-Z]','a')"
   ]
  },
  {
   "cell_type": "code",
   "execution_count": 6,
   "id": "70bc6b75",
   "metadata": {},
   "outputs": [],
   "source": [
    "def is_valid_username(string):\n",
    "        \n",
    "        \n",
    "        capture = re.findall(r'[A-Z]|@|#',string) \n",
    "        \n",
    "        if capture == []:\n",
    "            if len(string) < 32:\n",
    "                return True\n",
    "        else:\n",
    "            return False\n",
    "            \n",
    "           \n",
    "       \n",
    "    \n",
    "      \n",
    "\n",
    "\n"
   ]
  },
  {
   "cell_type": "code",
   "execution_count": 7,
   "id": "ba06ef06",
   "metadata": {},
   "outputs": [
    {
     "data": {
      "text/plain": [
       "False"
      ]
     },
     "execution_count": 7,
     "metadata": {},
     "output_type": "execute_result"
    }
   ],
   "source": [
    "# is this a valid username?\n",
    "is_valid_username(\"brand@\")"
   ]
  },
  {
   "cell_type": "code",
   "execution_count": 8,
   "id": "f3a91941",
   "metadata": {},
   "outputs": [
    {
     "data": {
      "text/plain": [
       "False"
      ]
     },
     "execution_count": 8,
     "metadata": {},
     "output_type": "execute_result"
    }
   ],
   "source": [
    "# is this a valid username?\n",
    "is_valid_username(\"Brand\")"
   ]
  },
  {
   "cell_type": "code",
   "execution_count": 9,
   "id": "c46e1f3d",
   "metadata": {},
   "outputs": [
    {
     "data": {
      "text/plain": [
       "True"
      ]
     },
     "execution_count": 9,
     "metadata": {},
     "output_type": "execute_result"
    }
   ],
   "source": [
    "# is this a valid username?\n",
    "is_valid_username(\"brand_\") "
   ]
  },
  {
   "cell_type": "markdown",
   "id": "18ba8ad2",
   "metadata": {},
   "source": [
    "# Write a regular expression to capture phone numbers. It should match all of the following:\n",
    "\n"
   ]
  },
  {
   "cell_type": "code",
   "execution_count": 10,
   "id": "05793df9",
   "metadata": {},
   "outputs": [],
   "source": [
    "# Write a regular expression to capture phone numbers. It should match all of the following: ('(210) 867 5309', ''+1 210.867.5309','867-5309', '210-867-5309')"
   ]
  },
  {
   "cell_type": "code",
   "execution_count": 11,
   "id": "e2384f63",
   "metadata": {},
   "outputs": [
    {
     "data": {
      "text/plain": [
       "<re.Match object; span=(0, 14), match='(210) 867 5309'>"
      ]
     },
     "execution_count": 11,
     "metadata": {},
     "output_type": "execute_result"
    }
   ],
   "source": [
    "# running my reg exp on all numbers\n",
    "\n",
    "re.search(r'(\\+?\\d{1,2}\\s)?(\\(\\d{3}\\)|\\d{3})[-.\\s]?\\d{3}[-.\\s]?\\d{4}','(210) 867 5309') "
   ]
  },
  {
   "cell_type": "code",
   "execution_count": 12,
   "id": "df69485f",
   "metadata": {},
   "outputs": [
    {
     "data": {
      "text/plain": [
       "<re.Match object; span=(0, 15), match='+1 210.867.5309'>"
      ]
     },
     "execution_count": 12,
     "metadata": {},
     "output_type": "execute_result"
    }
   ],
   "source": [
    "# running my reg exp on all numbers\n",
    "\n",
    "re.search(r'(\\+?\\d{1,2}\\s)?(\\(\\d{3}\\)|\\d{3})[-.\\s]?\\d{3}[-.\\s]?\\d{4}','+1 210.867.5309') "
   ]
  },
  {
   "cell_type": "code",
   "execution_count": 13,
   "id": "13deba02",
   "metadata": {},
   "outputs": [],
   "source": [
    "# running my reg exp on all numbers\n",
    "\n",
    "re.search(r'(\\+?\\d{1,2}\\s)?(\\(\\d{3}\\)|\\d{3})[-.\\s]?\\d{3}[-.\\s]?\\d{4}','867-5309') "
   ]
  },
  {
   "cell_type": "code",
   "execution_count": 14,
   "id": "a4040f0b",
   "metadata": {},
   "outputs": [
    {
     "data": {
      "text/plain": [
       "<re.Match object; span=(0, 12), match='210-867-5309'>"
      ]
     },
     "execution_count": 14,
     "metadata": {},
     "output_type": "execute_result"
    }
   ],
   "source": [
    "# running my reg exp on all numbers\n",
    "re.search(r'(\\+?\\d{1,2}\\s)?(\\(\\d{3}\\)|\\d{3})[-.\\s]?\\d{3}[-.\\s]?\\d{4}','210-867-5309') "
   ]
  },
  {
   "cell_type": "code",
   "execution_count": 15,
   "id": "6a0881a1",
   "metadata": {},
   "outputs": [
    {
     "ename": "SyntaxError",
     "evalue": "unexpected character after line continuation character (2250938400.py, line 1)",
     "output_type": "error",
     "traceback": [
      "\u001b[0;36m  File \u001b[0;32m\"/var/folders/d0/5dr5q0n145vcn3_m9dxy1xq80000gn/T/ipykernel_10270/2250938400.py\"\u001b[0;36m, line \u001b[0;32m1\u001b[0m\n\u001b[0;31m    (\\+?\\d{1,2}\\s)? matches an optional country code, followed by a space. The country code is enclosed in parentheses, and the '+' character is optional.\u001b[0m\n\u001b[0m      ^\u001b[0m\n\u001b[0;31mSyntaxError\u001b[0m\u001b[0;31m:\u001b[0m unexpected character after line continuation character\n"
     ]
    }
   ],
   "source": [
    "(\\+?\\d{1,2}\\s)? matches an optional country code, followed by a space. The country code is enclosed in parentheses, and the '+' character is optional.\n",
    "\n",
    "(\\(\\d{3}\\)|\\d{3}) matches an area code enclosed in parentheses, or an area code without parentheses. The area code is three digits long.\n",
    "\n",
    "[-.\\s]? matches an optional separator character. This can be a hyphen, period, or space character.\n",
    "\n",
    "\\d{3} matches the next three digits of the phone number.\n",
    "\n",
    "[-.\\s]? matches another optional separator character.\n",
    "\n",
    "\\d{4} matches the final four digits of the phone number.\n"
   ]
  },
  {
   "cell_type": "markdown",
   "id": "72ec5055",
   "metadata": {},
   "source": [
    "# Use regular expressions to convert the dates below to the standardized year-month-day format."
   ]
  },
  {
   "cell_type": "code",
   "execution_count": null,
   "id": "822a8076",
   "metadata": {},
   "outputs": [],
   "source": [
    "# practice run on my reg exp\n",
    "re.findall(r'(?P<month>\\d{2})/(?P<day>\\d{2})/(?P<year>\\d{2})','02/04/19')"
   ]
  },
  {
   "cell_type": "code",
   "execution_count": null,
   "id": "6b860238",
   "metadata": {},
   "outputs": [],
   "source": [
    "url_re = r'(?P<month>\\d{2})/(?P<day>\\d{2})/(?P<year>\\d{2})'\n",
    "\n",
    "match = re.search(url_re, '02/04/19')\n",
    "\n",
    "print(f'''\n",
    "groups: {match.groups()}\n",
    "\n",
    "group dictionary: {match.groupdict()}\n",
    "''')\n",
    "\n",
    "day = match.group('day')\n",
    "month = match.group('month')\n",
    "year = match.group('year')"
   ]
  },
  {
   "cell_type": "code",
   "execution_count": null,
   "id": "59b594a4",
   "metadata": {},
   "outputs": [],
   "source": [
    "print ( f'\"02/04/19\" is now 20{year}/{month}/{day}')"
   ]
  },
  {
   "cell_type": "code",
   "execution_count": 17,
   "id": "02abc2db",
   "metadata": {},
   "outputs": [],
   "source": [
    "# list of dates to fix\n",
    "dates = ['02/04/19',\n",
    "'02/05/19',\n",
    "'02/06/19',\n",
    "'02/07/19',\n",
    "'02/08/19',\n",
    "'02/09/19',\n",
    "'02/10/19']"
   ]
  },
  {
   "cell_type": "code",
   "execution_count": 21,
   "id": "92ac3475",
   "metadata": {},
   "outputs": [],
   "source": [
    "# create function run all \n",
    "def stand_ymd(list_of_dates):\n",
    "    \n",
    "    # reg exp\n",
    "    url_re = r'(?P<month>\\d{2})/(?P<day>\\d{2})/(?P<year>\\d{2})'\n",
    "    \n",
    "    # for item in the list dates..\n",
    "    for i in dates:\n",
    "        \n",
    "        #perform re.search on that item and save to match\n",
    "        match = re.search(url_re,i)\n",
    "        \n",
    "        # assign groups to variables\n",
    "        day = match.group('day')\n",
    "        month = match.group('month')\n",
    "        year = match.group('year')\n",
    "        \n",
    "        # show how they would be fixed\n",
    "        print ( f'\"{month}/{day}/{year}\" would be now 20{year}/{month}/{day}')\n",
    "        \n",
    "        \n",
    "\n",
    "    "
   ]
  },
  {
   "cell_type": "code",
   "execution_count": 22,
   "id": "31be1b59",
   "metadata": {},
   "outputs": [
    {
     "name": "stdout",
     "output_type": "stream",
     "text": [
      "\"02/04/19\" would be now 2019/02/04\n",
      "\"02/05/19\" would be now 2019/02/05\n",
      "\"02/06/19\" would be now 2019/02/06\n",
      "\"02/07/19\" would be now 2019/02/07\n",
      "\"02/08/19\" would be now 2019/02/08\n",
      "\"02/09/19\" would be now 2019/02/09\n",
      "\"02/10/19\" would be now 2019/02/10\n"
     ]
    }
   ],
   "source": [
    "# run function\n",
    "stand_ymd(dates)"
   ]
  },
  {
   "cell_type": "markdown",
   "id": "3d290bb6",
   "metadata": {},
   "source": [
    "# Write a regex to extract the various parts of these logfile lines:"
   ]
  },
  {
   "cell_type": "code",
   "execution_count": null,
   "id": "a4a03fea",
   "metadata": {},
   "outputs": [],
   "source": [
    "# make a list of request\n",
    "request = ['GET /api/v1/sales?page=86 [16/Apr/2019:193452+0000] HTTP/1.1 {200} 510348 \"python-requests/2.21.0\" 97.105.19.58',\n",
    "           'GET /api/v1/items?page=3 [16/Apr/2019:193453+0000] HTTP/1.1 {429} 3561 \"python-requests/2.21.0\" 97.105.19.58',\n",
    "           'POST /users_accounts/file-upload [16/Apr/2019:193452+0000] HTTP/1.1 {201} 42 \"User-Agent: Mozilla/5.0 (X11; Fedora; Fedora; Linux x86_64) AppleWebKit/537.36 (KHTML, like Gecko) Chrome/73.0.3683.86 Safari/537.36\" 97.105.19.58']\n"
   ]
  },
  {
   "cell_type": "code",
   "execution_count": null,
   "id": "d2f48249",
   "metadata": {},
   "outputs": [],
   "source": [
    "# create a reg expression\n",
    "url_re = r'(?P<type>^(GET|POST))\\s(?P<path>(.+))\\s(?P<link>HTTP)(?P<numbers>\\/1\\.1\\s\\{(\\d+)\\}\\s(\\d+))\\s(\\\"(.+)\\\"\\s(?P<ip>\\d+\\.\\d+\\.\\d+\\.\\d+)$)'\n"
   ]
  },
  {
   "cell_type": "code",
   "execution_count": null,
   "id": "e13d9eb3",
   "metadata": {},
   "outputs": [],
   "source": [
    "# create a .search labeld match\n",
    "match = re.search(url_re,'GET /api/v1/sales?page=86 [16/Apr/2019:193452+0000] HTTP/1.1 {200} 510348 \"python-requests/2.21.0\" 97.105.19.58')"
   ]
  },
  {
   "cell_type": "code",
   "execution_count": null,
   "id": "158d6298",
   "metadata": {},
   "outputs": [],
   "source": [
    "# look at group dictionary\n",
    "match.groupdict()"
   ]
  },
  {
   "cell_type": "code",
   "execution_count": null,
   "id": "95360223",
   "metadata": {},
   "outputs": [],
   "source": [
    "# create a .search labeld match\n",
    "match = re.search(url_re,'GET /api/v1/items?page=3 [16/Apr/2019:193453+0000] HTTP/1.1 {429} 3561 \"python-requests/2.21.0\" 97.105.19.58')"
   ]
  },
  {
   "cell_type": "code",
   "execution_count": null,
   "id": "5ac39f2c",
   "metadata": {},
   "outputs": [],
   "source": [
    "# look at group dictionary\n",
    "match.groupdict()"
   ]
  },
  {
   "cell_type": "code",
   "execution_count": null,
   "id": "9bcdf3f5",
   "metadata": {},
   "outputs": [],
   "source": [
    "# create a .search labeled match\n",
    "match = re.search(url_re,'POST /users_accounts/file-upload [16/Apr/2019:193452+0000] HTTP/1.1 {201} 42 \"User-Agent: Mozilla/5.0 (X11; Fedora; Fedora; Linux x86_64) AppleWebKit/537.36 (KHTML, like Gecko) Chrome/73.0.3683.86 Safari/537.36\" 97.105.19.58')"
   ]
  },
  {
   "cell_type": "code",
   "execution_count": null,
   "id": "fa2cd1a7",
   "metadata": {
    "scrolled": true
   },
   "outputs": [],
   "source": [
    "# look at group dictionary\n",
    "match.groupdict()"
   ]
  },
  {
   "cell_type": "code",
   "execution_count": null,
   "id": "1c8f80a8",
   "metadata": {},
   "outputs": [],
   "source": []
  },
  {
   "cell_type": "code",
   "execution_count": null,
   "id": "125c63f6",
   "metadata": {},
   "outputs": [],
   "source": []
  }
 ],
 "metadata": {
  "kernelspec": {
   "display_name": "Python 3 (ipykernel)",
   "language": "python",
   "name": "python3"
  },
  "language_info": {
   "codemirror_mode": {
    "name": "ipython",
    "version": 3
   },
   "file_extension": ".py",
   "mimetype": "text/x-python",
   "name": "python",
   "nbconvert_exporter": "python",
   "pygments_lexer": "ipython3",
   "version": "3.9.13"
  }
 },
 "nbformat": 4,
 "nbformat_minor": 5
}
