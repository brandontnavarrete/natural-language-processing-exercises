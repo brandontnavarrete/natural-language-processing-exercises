{
 "cells": [
  {
   "cell_type": "code",
   "execution_count": 88,
   "id": "f4b6266b",
   "metadata": {},
   "outputs": [],
   "source": [
    "import pandas as pd \n",
    "import numpy as np\n",
    "import os \n",
    "from os import path\n",
    "\n",
    "import unicodedata\n",
    "import re\n",
    "import json\n",
    "\n",
    "import requests\n",
    "from requests import get\n",
    "from bs4 import BeautifulSoup\n",
    "\n",
    "import nltk\n",
    "from nltk.tokenize.toktok import ToktokTokenizer\n",
    "from nltk.corpus import stopwords\n",
    "\n",
    "import acquire as ac\n",
    "import prepare as pr \n",
    "\n",
    "\n",
    "import sketch\n"
   ]
  },
  {
   "cell_type": "code",
   "execution_count": 2,
   "id": "f095a0ed",
   "metadata": {},
   "outputs": [
    {
     "name": "stdout",
     "output_type": "stream",
     "text": [
      "\n",
      "\n",
      "\n",
      "\n",
      "\n",
      "\n",
      "What are the Math and Stats Principles You Need for Data Science?\n",
      "Oct 21, 2020 | Data Science\n",
      "\n",
      "\n",
      "Coming into our Data Science program, you will need to know some math and stats. However, many of our applicants actually learn in the application process – you don’t need to be an expert before applying! Data science is a very accessible field to anyone dedicated to learning new skills, and we can work with any applicant to help them learn what they need to know. But what “skills” do we mean, e\n"
     ]
    }
   ],
   "source": [
    "# call functionn\n",
    "original = ac.get_article_text()\n",
    "print(original[0:500])"
   ]
  },
  {
   "cell_type": "code",
   "execution_count": 3,
   "id": "83a5fa7f",
   "metadata": {},
   "outputs": [],
   "source": [
    "article = original.lower()"
   ]
  },
  {
   "cell_type": "code",
   "execution_count": 4,
   "id": "e53ef8f6",
   "metadata": {},
   "outputs": [
    {
     "name": "stdout",
     "output_type": "stream",
     "text": [
      "\n",
      "\n",
      "\n",
      "\n",
      "\n",
      "\n",
      "what are the math and stats principles you need for data science?\n",
      "oct 21, 2020 | data science\n",
      "\n",
      "\n",
      "coming into our data science program, you will need to know some math and stats. however, many of \n"
     ]
    }
   ],
   "source": [
    "print(article[:200])"
   ]
  },
  {
   "cell_type": "markdown",
   "id": "250cae99",
   "metadata": {},
   "source": [
    "# removing accented characters"
   ]
  },
  {
   "cell_type": "code",
   "execution_count": 5,
   "id": "efac1ace",
   "metadata": {},
   "outputs": [],
   "source": [
    "article = unicodedata.normalize('NFKD',article)\\\n",
    "    .encode('ascii', 'ignore')\\\n",
    "    .decode('utf-8', 'ignore')"
   ]
  },
  {
   "cell_type": "code",
   "execution_count": 6,
   "id": "e23f1ee7",
   "metadata": {},
   "outputs": [
    {
     "name": "stdout",
     "output_type": "stream",
     "text": [
      "\n",
      "\n",
      "\n",
      "\n",
      "\n",
      "\n",
      "what are the math and stats principles you need for data science?\n",
      "oct 21, 2020 | data science\n",
      "\n",
      "\n",
      "coming into our data science program, you will need to know some math and stats. however, many of our applicants actually learn in the application process  you dont need to be an expert before applying! data science is a very accessible field to anyone dedicated to learning new skills, and we can work with any applicant to help them learn what they need to know. but what skills do we mean, exact\n"
     ]
    }
   ],
   "source": [
    "print(article[0:500])"
   ]
  },
  {
   "cell_type": "markdown",
   "id": "29fe0814",
   "metadata": {},
   "source": [
    "# Removing Special Chars"
   ]
  },
  {
   "cell_type": "code",
   "execution_count": 7,
   "id": "5adb7092",
   "metadata": {},
   "outputs": [],
   "source": [
    "# not a-z, #, single quote, or white space\n",
    "article = re.sub(r\"[^a-z0-9'\\s]\",'', article)"
   ]
  },
  {
   "cell_type": "code",
   "execution_count": 8,
   "id": "48e3acce",
   "metadata": {},
   "outputs": [
    {
     "name": "stdout",
     "output_type": "stream",
     "text": [
      "\n",
      "\n",
      "\n",
      "\n",
      "\n",
      "\n",
      "what are the math and stats principles you need for data science\n",
      "oct 21 2020  data science\n",
      "\n",
      "\n",
      "coming into our data science program you will need to know some math and stats however many of our applicants actually learn in the application process  you dont need to be an expert before applying data science is a very accessible field to anyone dedicated to learning new skills and we can work with any applicant to help them learn what they need to know but what skills do we mean exactly just what exactly are the data science math and stats principles you need to know\n",
      "what are the main math principles you need to know to get into codeups data science program\n",
      "\n",
      "\n",
      "algebra\n",
      "do you know pemdas and can you solve for x you will need to be or become comfortable with the following \n",
      "\n",
      "variables x y n etc\n",
      "formulas functions and variable manipulations eg x2  x  6 solve for x\n",
      "order of evaluation pemdas parentheses exponents then multiplication division addition and subtraction\n",
      "commutativity where a  b  b  a\n",
      "associativity where a  b  c  a  b  c\n",
      "adding and subtracting matrices\n",
      "a conceptual understanding of exponential growthdecay things can increase at an increasing rate\n",
      "\n",
      "descriptive statistics\n",
      "know what a min max mode median and average are have a conceptual understanding that statsprobability is about trying to quantify uncertainty\n",
      "data visualization\n",
      "know what a scatterplot is and how to read a barplot\n",
      "how to learn and expand on these concepts\n",
      "there are a number of great resources out there to teach you these and similar concepts khan academy is a great starting place for data science math if you want to know what exactly we assign our applicants youll just have to apply\n",
      " \n",
      "what about once youre in codeup\n",
      "\n",
      "\n",
      "what you wont do\n",
      "do we do any mathematical proofs for concepts or perform derivations no \n",
      "do we do any calculus and probability calculating by hand no\n",
      "are we transforming equations where we cancel out units or terms and do lots of algebraic gymnastics no\n",
      "what you will do\n",
      "will we have python solve our linear algebra problems for us yes\n",
      "will we have python calculate probabilities the area under a curve and the slope of a line for us yes\n",
      "will we have python do all of the calculus for us yes\n",
      " \n",
      "see the data science math and stats slice of the pie is certainly doable if you like problemsolving and are ready to challenge yourself youll love data science if you are interested in learning about data science just apply our admissions manager can work with you to get you where you need to be starting from where you are now let us help you get there so you can launch a great new career\n",
      "\n",
      "\n",
      "\n",
      "\n",
      "\n",
      "\n",
      "\n",
      "\n",
      "our programscloud administration\n",
      "full stack web development\n",
      "data science\n",
      "\n",
      "\n",
      "\n",
      "\n",
      "\n",
      "latest blog articles\n",
      "black excellence in tech panelist spotlight  wilmarie de la cruz mejia\n",
      "black excellence in tech panelist spotlight  stephanie jones\n",
      "black excellence in tech panelist spotlight  james cooper\n",
      "black excellence in tech panelist spotlight  jeanice freeman\n",
      "coding bootcamp or selflearning which is best for you\n",
      "\n",
      "\n",
      "\n",
      "\n",
      "\n",
      "\n",
      "\n",
      "\n",
      "\n",
      "\n",
      "\n",
      "\n",
      "\n",
      "\n",
      "\n",
      "\n",
      "\n",
      " \n",
      "\n",
      "\n",
      "\n"
     ]
    }
   ],
   "source": [
    "print(article)"
   ]
  },
  {
   "cell_type": "markdown",
   "id": "2fcf020e",
   "metadata": {},
   "source": [
    "# Tokenization"
   ]
  },
  {
   "cell_type": "code",
   "execution_count": 9,
   "id": "6f5719e9",
   "metadata": {},
   "outputs": [],
   "source": [
    "tokenizer = nltk.tokenize.ToktokTokenizer()"
   ]
  },
  {
   "cell_type": "code",
   "execution_count": 10,
   "id": "df65f6c9",
   "metadata": {},
   "outputs": [],
   "source": [
    "tok = tokenizer.tokenize(article, return_str=True)[0:500]"
   ]
  },
  {
   "cell_type": "markdown",
   "id": "953982e4",
   "metadata": {},
   "source": [
    "# stemming and lemmatization"
   ]
  },
  {
   "cell_type": "markdown",
   "id": "d671b083",
   "metadata": {},
   "source": [
    "### stemming"
   ]
  },
  {
   "cell_type": "code",
   "execution_count": 11,
   "id": "be662bf2",
   "metadata": {},
   "outputs": [
    {
     "data": {
      "text/plain": [
       "('call', 'call', 'call')"
      ]
     },
     "execution_count": 11,
     "metadata": {},
     "output_type": "execute_result"
    }
   ],
   "source": [
    "# create the nltk stemmer object\n",
    "ps = nltk.porter.PorterStemmer()\n",
    "\n",
    "ps.stem('call'), ps.stem('called'), ps.stem('calling')"
   ]
  },
  {
   "cell_type": "code",
   "execution_count": 12,
   "id": "13c338b6",
   "metadata": {},
   "outputs": [
    {
     "data": {
      "text/plain": [
       "('stop', 'stop')"
      ]
     },
     "execution_count": 12,
     "metadata": {},
     "output_type": "execute_result"
    }
   ],
   "source": [
    "ps.stem('stop'), ps.stem('stopped')"
   ]
  },
  {
   "cell_type": "code",
   "execution_count": 13,
   "id": "027f61cc",
   "metadata": {},
   "outputs": [],
   "source": [
    "stems = [ps.stem(word) for word in article.split()]"
   ]
  },
  {
   "cell_type": "code",
   "execution_count": 14,
   "id": "8df6ba84",
   "metadata": {},
   "outputs": [],
   "source": [
    "article_stemmed = ' '.join(stems)"
   ]
  },
  {
   "cell_type": "code",
   "execution_count": 15,
   "id": "d8a9345a",
   "metadata": {},
   "outputs": [
    {
     "name": "stdout",
     "output_type": "stream",
     "text": [
      "what are the math and stat principl you need for data scienc oct 21 2020 data scienc come into our data scienc program you will need to know some math and stat howev mani of our applic actual learn in the applic process you dont need to be an expert befor appli data scienc is a veri access field to anyon dedic to learn new skill and we can work with ani applic to help them learn what they need to know but what skill do we mean exactli just what exactli are the data scienc math and stat principl you need to know what are the main math principl you need to know to get into codeup data scienc program algebra do you know pemda and can you solv for x you will need to be or becom comfort with the follow variabl x y n etc formula function and variabl manipul eg x2 x 6 solv for x order of evalu pemda parenthes expon then multipl divis addit and subtract commut where a b b a associ where a b c a b c ad and subtract matric a conceptu understand of exponenti growthdecay thing can increas at an increas rate descript statist know what a min max mode median and averag are have a conceptu understand that statsprob is about tri to quantifi uncertainti data visual know what a scatterplot is and how to read a barplot how to learn and expand on these concept there are a number of great resourc out there to teach you these and similar concept khan academi is a great start place for data scienc math if you want to know what exactli we assign our applic youll just have to appli what about onc your in codeup what you wont do do we do ani mathemat proof for concept or perform deriv no do we do ani calculu and probabl calcul by hand no are we transform equat where we cancel out unit or term and do lot of algebra gymnast no what you will do will we have python solv our linear algebra problem for us ye will we have python calcul probabl the area under a curv and the slope of a line for us ye will we have python do all of the calculu for us ye see the data scienc math and stat slice of the pie is certainli doabl if you like problemsolv and are readi to challeng yourself youll love data scienc if you are interest in learn about data scienc just appli our admiss manag can work with you to get you where you need to be start from where you are now let us help you get there so you can launch a great new career our programscloud administr full stack web develop data scienc latest blog articl black excel in tech panelist spotlight wilmari de la cruz mejia black excel in tech panelist spotlight stephani jone black excel in tech panelist spotlight jame cooper black excel in tech panelist spotlight jeanic freeman code bootcamp or selflearn which is best for you\n"
     ]
    }
   ],
   "source": [
    "print(article_stemmed)\n"
   ]
  },
  {
   "cell_type": "code",
   "execution_count": 16,
   "id": "b53c2f1b",
   "metadata": {},
   "outputs": [
    {
     "data": {
      "text/plain": [
       "you     21\n",
       "to      19\n",
       "and     17\n",
       "a       15\n",
       "data    12\n",
       "dtype: int64"
      ]
     },
     "execution_count": 16,
     "metadata": {},
     "output_type": "execute_result"
    }
   ],
   "source": [
    "pd.Series(stems).value_counts().head(5)"
   ]
  },
  {
   "cell_type": "markdown",
   "id": "517961a9",
   "metadata": {},
   "source": [
    "### Lemmatization"
   ]
  },
  {
   "cell_type": "code",
   "execution_count": 17,
   "id": "81d8675a",
   "metadata": {},
   "outputs": [],
   "source": [
    "wnl = nltk.stem.WordNetLemmatizer()\n"
   ]
  },
  {
   "cell_type": "code",
   "execution_count": 18,
   "id": "47c05052",
   "metadata": {},
   "outputs": [],
   "source": [
    "lemmas = [wnl.lemmatize(word) for word in article.split()]\n"
   ]
  },
  {
   "cell_type": "markdown",
   "id": "75eba444",
   "metadata": {},
   "source": [
    "# Excercies"
   ]
  },
  {
   "cell_type": "code",
   "execution_count": 19,
   "id": "5ee99d30",
   "metadata": {},
   "outputs": [],
   "source": [
    "## function"
   ]
  },
  {
   "cell_type": "code",
   "execution_count": 20,
   "id": "857fef1e",
   "metadata": {},
   "outputs": [],
   "source": [
    "# basic clean"
   ]
  },
  {
   "cell_type": "code",
   "execution_count": 85,
   "id": "b4be7aa3",
   "metadata": {},
   "outputs": [],
   "source": [
    "def basic_clean(sentence):\n",
    "    \n",
    "    '''\n",
    "    Input: string\n",
    "    Output: string that is all lower case, normalized, and removed of \n",
    "    special characters.\n",
    "    '''\n",
    "    \n",
    "    # lower case\n",
    "    low_sent = sentence.lower()\n",
    "    \n",
    "    # normalize sentence\n",
    "    norm_sent = unicodedata.normalize('NFKD',low_sent)\\\n",
    "    .encode('ascii', 'ignore')\\\n",
    "    .decode('utf-8', 'ignore')\n",
    "    \n",
    "    # not a-z, #, single quote, or white space\n",
    "    sentence = re.sub(r\"[^a-z0-9'\\s]\",'', low_sent)\n",
    "    \n",
    "    #return sentence\n",
    "    return sentence\n"
   ]
  },
  {
   "cell_type": "code",
   "execution_count": 22,
   "id": "9c5cc98e",
   "metadata": {},
   "outputs": [],
   "source": [
    "# tokenize"
   ]
  },
  {
   "cell_type": "code",
   "execution_count": 23,
   "id": "b9860af0",
   "metadata": {},
   "outputs": [],
   "source": [
    "def tokenize(sentence):\n",
    "    \n",
    "    # create object\n",
    "    tokenizer = nltk.tokenize.ToktokTokenizer()\n",
    "    \n",
    "    tok_sen = tokenizer.tokenize(sentence, return_str=True)\n",
    "    \n",
    "    return tok_sen"
   ]
  },
  {
   "cell_type": "code",
   "execution_count": 24,
   "id": "7881d2ed",
   "metadata": {},
   "outputs": [],
   "source": [
    "# stem"
   ]
  },
  {
   "cell_type": "code",
   "execution_count": 25,
   "id": "7099de19",
   "metadata": {},
   "outputs": [],
   "source": [
    "def stem(sentence):\n",
    "    \n",
    "    # create the nltk stemmer object\n",
    "    ps = nltk.porter.PorterStemmer()\n",
    "    \n",
    "    # loop, for every word in the sentence perform ps.stem\n",
    "    stems = [ps.stem(word) for word in sentence.split()]\n",
    "    \n",
    "    # join works to string\n",
    "    sentence_stemmed = ' '.join(stems)\n",
    "    \n",
    "    # return string\n",
    "    return sentence_stemmed\n",
    "    "
   ]
  },
  {
   "cell_type": "code",
   "execution_count": 26,
   "id": "4d7d3777",
   "metadata": {},
   "outputs": [],
   "source": [
    "# lemmatize"
   ]
  },
  {
   "cell_type": "code",
   "execution_count": 212,
   "id": "6897acb4",
   "metadata": {},
   "outputs": [],
   "source": [
    "def lemmatize(sentence):\n",
    "    \n",
    "    # create object\n",
    "    wnl = nltk.stem.WordNetLemmatizer()\n",
    "    \n",
    "    # loop, for every word in the sentence perform ps.stem\n",
    "    lemmas = [wnl.lemmatize(word) for word in sentence.split()]\n",
    "    \n",
    "    # join works to string\n",
    "    sentence_lemmed = ' '.join(lemmas)\n",
    "    \n",
    "    return sentence_lemmed\n",
    "    "
   ]
  },
  {
   "cell_type": "code",
   "execution_count": 28,
   "id": "7f73d485",
   "metadata": {},
   "outputs": [],
   "source": [
    "# removed stopwords"
   ]
  },
  {
   "cell_type": "code",
   "execution_count": 46,
   "id": "98b6fbe8",
   "metadata": {},
   "outputs": [],
   "source": [
    "def remove_stopwords(sentence, new_stopwords=None, exclude_stopwords=None):\n",
    "    \n",
    "    # General stop word set\n",
    "    stopwords_list = stopwords.words('english')\n",
    "\n",
    "    # If new_stopwords is not None, add the new stopwords to the stopwords list\n",
    "    if new_stopwords is not None:\n",
    "        stopwords_list.update(new_stopwords)\n",
    "\n",
    "    # If exclude_stopwords is not None, remove the specified stopwords from the stopwords list\n",
    "    if exclude_stopwords is not None:\n",
    "        stopwords_list.difference_update(exclude_stopwords)\n",
    "\n",
    "    # Split the sentence into a list of words\n",
    "    words = sentence.split()\n",
    "\n",
    "    # Remove stopwords from the list of words\n",
    "    filtered_sentence = []\n",
    "  \n",
    "    for w in words:\n",
    "        if w not in stopwords_list:\n",
    "            filtered_sentence.append(w)\n",
    "    \n",
    "    # Join the filtered words back into a sentence\n",
    "    sentence_without_stopwords = ' '.join(filtered_sentence)\n",
    "\n",
    "    # Print the number of stopwords removed\n",
    "    print('Removed {} stopwords'.format(len(words) - len(filtered_sentence)))\n",
    "\n",
    "    return sentence_without_stopwords"
   ]
  },
  {
   "cell_type": "code",
   "execution_count": null,
   "id": "1da78741",
   "metadata": {},
   "outputs": [],
   "source": []
  },
  {
   "cell_type": "code",
   "execution_count": null,
   "id": "40531a79",
   "metadata": {},
   "outputs": [],
   "source": []
  },
  {
   "cell_type": "code",
   "execution_count": null,
   "id": "dea85de7",
   "metadata": {},
   "outputs": [],
   "source": []
  },
  {
   "cell_type": "code",
   "execution_count": null,
   "id": "593d314a",
   "metadata": {},
   "outputs": [],
   "source": []
  },
  {
   "cell_type": "code",
   "execution_count": null,
   "id": "d6cb5b92",
   "metadata": {},
   "outputs": [],
   "source": []
  },
  {
   "cell_type": "markdown",
   "id": "6c4b3382",
   "metadata": {},
   "source": [
    "# test"
   ]
  },
  {
   "cell_type": "code",
   "execution_count": 30,
   "id": "faf60b38",
   "metadata": {},
   "outputs": [],
   "source": [
    "article = basic_clean(article)"
   ]
  },
  {
   "cell_type": "code",
   "execution_count": 31,
   "id": "840f6abf",
   "metadata": {},
   "outputs": [],
   "source": [
    "article = tokenize(article)"
   ]
  },
  {
   "cell_type": "code",
   "execution_count": 32,
   "id": "3807f7c8",
   "metadata": {},
   "outputs": [],
   "source": [
    "article = stem(article)"
   ]
  },
  {
   "cell_type": "code",
   "execution_count": 33,
   "id": "ab8f60ef",
   "metadata": {
    "scrolled": true
   },
   "outputs": [
    {
     "name": "stdout",
     "output_type": "stream",
     "text": [
      "Removed 232 stopwords\n"
     ]
    }
   ],
   "source": [
    "article = remove_stopwords(article)"
   ]
  },
  {
   "cell_type": "code",
   "execution_count": 34,
   "id": "fe1fbf19",
   "metadata": {},
   "outputs": [
    {
     "data": {
      "text/plain": [
       "'math stat principl need data scienc oct 21 2020 data scienc come data scienc program need know math stat howev mani applic actual learn applic process dont need expert befor appli data scienc veri access field anyon dedic learn new skill work ani applic help learn need know skill mean exactli exactli data scienc math stat principl need know main math principl need know get codeup data scienc program algebra know pemda solv x need becom comfort follow variabl x n etc formula function variabl manipul eg x2 x 6 solv x order evalu pemda parenthes expon multipl divis addit subtract commut b b associ b c b c ad subtract matric conceptu understand exponenti growthdecay thing increas increas rate descript statist know min max mode median averag conceptu understand statsprob tri quantifi uncertainti data visual know scatterplot read barplot learn expand concept number great resourc teach similar concept khan academi great start place data scienc math want know exactli assign applic youll appli onc codeup wont ani mathemat proof concept perform deriv ani calculu probabl calcul hand transform equat cancel unit term lot algebra gymnast python solv linear algebra problem us ye python calcul probabl area curv slope line us ye python calculu us ye see data scienc math stat slice pie certainli doabl like problemsolv readi challeng youll love data scienc interest learn data scienc appli admiss manag work get need start let us help get launch great new career programscloud administr full stack web develop data scienc latest blog articl black excel tech panelist spotlight wilmari de la cruz mejia black excel tech panelist spotlight stephani jone black excel tech panelist spotlight jame cooper black excel tech panelist spotlight jeanic freeman code bootcamp selflearn best'"
      ]
     },
     "execution_count": 34,
     "metadata": {},
     "output_type": "execute_result"
    }
   ],
   "source": [
    "article"
   ]
  },
  {
   "cell_type": "markdown",
   "id": "94b83763",
   "metadata": {},
   "source": [
    "# test"
   ]
  },
  {
   "cell_type": "markdown",
   "id": "db101886",
   "metadata": {},
   "source": [
    "# 6. Use your data from the acquire to produce a dataframe of the news articles. Name the dataframe news_df."
   ]
  },
  {
   "cell_type": "code",
   "execution_count": 35,
   "id": "32edcc95",
   "metadata": {},
   "outputs": [],
   "source": [
    "news = ac.get_new_article_business()"
   ]
  },
  {
   "cell_type": "code",
   "execution_count": 36,
   "id": "87e94e99",
   "metadata": {},
   "outputs": [],
   "source": [
    "news_df = pd.DataFrame(news)"
   ]
  },
  {
   "cell_type": "code",
   "execution_count": 37,
   "id": "2e45b474",
   "metadata": {},
   "outputs": [
    {
     "data": {
      "text/html": [
       "<div>\n",
       "<style scoped>\n",
       "    .dataframe tbody tr th:only-of-type {\n",
       "        vertical-align: middle;\n",
       "    }\n",
       "\n",
       "    .dataframe tbody tr th {\n",
       "        vertical-align: top;\n",
       "    }\n",
       "\n",
       "    .dataframe thead th {\n",
       "        text-align: right;\n",
       "    }\n",
       "</style>\n",
       "<table border=\"1\" class=\"dataframe\">\n",
       "  <thead>\n",
       "    <tr style=\"text-align: right;\">\n",
       "      <th></th>\n",
       "      <th>title</th>\n",
       "      <th>content</th>\n",
       "      <th>category</th>\n",
       "    </tr>\n",
       "  </thead>\n",
       "  <tbody>\n",
       "    <tr>\n",
       "      <th>0</th>\n",
       "      <td>56% Indians are satisfied with the current Gov...</td>\n",
       "      <td>\\n~Inshorts ‘Pulse of the Nation’ poll conduct...</td>\n",
       "      <td>business</td>\n",
       "    </tr>\n",
       "  </tbody>\n",
       "</table>\n",
       "</div>"
      ],
      "text/plain": [
       "                                               title  \\\n",
       "0  56% Indians are satisfied with the current Gov...   \n",
       "\n",
       "                                             content  category  \n",
       "0  \\n~Inshorts ‘Pulse of the Nation’ poll conduct...  business  "
      ]
     },
     "execution_count": 37,
     "metadata": {},
     "output_type": "execute_result"
    }
   ],
   "source": [
    "news_df"
   ]
  },
  {
   "cell_type": "markdown",
   "id": "754ef75b",
   "metadata": {},
   "source": [
    "# 7. Make another dataframe for the Codeup blog posts. Name the dataframe codeup_df."
   ]
  },
  {
   "cell_type": "code",
   "execution_count": 38,
   "id": "1583d55e",
   "metadata": {},
   "outputs": [],
   "source": [
    "url = 'https://codeup.com/blog/'\n",
    "headers = {'User-Agent': 'Codeup Data Science'} # Some websites don't accept the pyhon-requests default user-agent\n",
    "# headers, change python request\n",
    "response = requests.get(url, headers=headers) "
   ]
  },
  {
   "cell_type": "code",
   "execution_count": 39,
   "id": "4714ee63",
   "metadata": {},
   "outputs": [],
   "source": [
    "# Make a soup variable holding the response content\n",
    "soup = BeautifulSoup(response.content, 'html.parser')"
   ]
  },
  {
   "cell_type": "code",
   "execution_count": 40,
   "id": "8d9a7aa8",
   "metadata": {},
   "outputs": [],
   "source": [
    "# anchors, looking for more-link\n",
    "links = soup.find_all('a','more-link')"
   ]
  },
  {
   "cell_type": "code",
   "execution_count": 41,
   "id": "7f678649",
   "metadata": {},
   "outputs": [],
   "source": [
    "# creating empty list\n",
    "url = []"
   ]
  },
  {
   "cell_type": "code",
   "execution_count": 42,
   "id": "8e04c96d",
   "metadata": {},
   "outputs": [],
   "source": [
    "# list of links\n",
    "for i in range(0,len(links)):\n",
    "    url_temp = (links[i]['href'])\n",
    "    \n",
    "    url.append(url_temp)"
   ]
  },
  {
   "cell_type": "code",
   "execution_count": 139,
   "id": "4571e259",
   "metadata": {},
   "outputs": [],
   "source": [
    "codeup_df = pd.DataFrame(ac.get_blog_articles(url))"
   ]
  },
  {
   "cell_type": "code",
   "execution_count": 141,
   "id": "18e78e37",
   "metadata": {},
   "outputs": [],
   "source": [
    "panelist_content = codeup_df.content[0]"
   ]
  },
  {
   "cell_type": "code",
   "execution_count": 167,
   "id": "c7ba157f",
   "metadata": {},
   "outputs": [],
   "source": [
    "for i in range(0,len(codeup_df)):\n",
    "    content = codeup_df.content[i]\n",
    "    content_to_add = basic_clean(''.join(content))\n",
    "    codeup_df.loc[i, 'clean'] = content_to_add\n"
   ]
  },
  {
   "cell_type": "code",
   "execution_count": 173,
   "id": "0a5189b8",
   "metadata": {},
   "outputs": [],
   "source": [
    "for i in range(0,len(codeup_df)):\n",
    "    content = codeup_df.clean[i]\n",
    "    content_to_add = tokenize(codeup_df.clean[i])\n",
    "    codeup_df.loc[i, 'clean'] = content_to_add\n"
   ]
  },
  {
   "cell_type": "code",
   "execution_count": 178,
   "id": "8598f7fe",
   "metadata": {},
   "outputs": [],
   "source": [
    "for i in range(0,len(codeup_df)):\n",
    "    content = codeup_df.clean[i]\n",
    "    content_to_add = basic_clean(codeup_df.clean[i])\n",
    "    codeup_df.loc[i, 'clean'] = content_to_add"
   ]
  },
  {
   "cell_type": "code",
   "execution_count": 186,
   "id": "34131b44",
   "metadata": {},
   "outputs": [
    {
     "data": {
      "text/html": [
       "<div>\n",
       "<style scoped>\n",
       "    .dataframe tbody tr th:only-of-type {\n",
       "        vertical-align: middle;\n",
       "    }\n",
       "\n",
       "    .dataframe tbody tr th {\n",
       "        vertical-align: top;\n",
       "    }\n",
       "\n",
       "    .dataframe thead th {\n",
       "        text-align: right;\n",
       "    }\n",
       "</style>\n",
       "<table border=\"1\" class=\"dataframe\">\n",
       "  <thead>\n",
       "    <tr style=\"text-align: right;\">\n",
       "      <th></th>\n",
       "      <th>title</th>\n",
       "      <th>content</th>\n",
       "      <th>clean</th>\n",
       "      <th>stemmed</th>\n",
       "    </tr>\n",
       "  </thead>\n",
       "  <tbody>\n",
       "    <tr>\n",
       "      <th>0</th>\n",
       "      <td>Black Excellence in Tech: Panelist Spotlight -...</td>\n",
       "      <td>[\\n, Black excellence in tech: Panelist Spotli...</td>\n",
       "      <td>black excellence in tech panelist spotlight wi...</td>\n",
       "      <td>black excel in tech panelist spotlight wilmari...</td>\n",
       "    </tr>\n",
       "    <tr>\n",
       "      <th>1</th>\n",
       "      <td>Black excellence in tech: Panelist Spotlight -...</td>\n",
       "      <td>[\\n, Black excellence in tech: Panelist Spotli...</td>\n",
       "      <td>black excellence in tech panelist spotlight st...</td>\n",
       "      <td>black excel in tech panelist spotlight stephan...</td>\n",
       "    </tr>\n",
       "    <tr>\n",
       "      <th>2</th>\n",
       "      <td>Black excellence in tech: Panelist Spotlight -...</td>\n",
       "      <td>[\\n, Black excellence in tech: Panelist Spotli...</td>\n",
       "      <td>black excellence in tech panelist spotlight ja...</td>\n",
       "      <td>black excel in tech panelist spotlight jame co...</td>\n",
       "    </tr>\n",
       "    <tr>\n",
       "      <th>3</th>\n",
       "      <td>Black excellence in tech: Panelist Spotlight -...</td>\n",
       "      <td>[\\n, Black excellence in tech: Panelist Spotli...</td>\n",
       "      <td>black excellence in tech panelist spotlight je...</td>\n",
       "      <td>black excel in tech panelist spotlight jeanic ...</td>\n",
       "    </tr>\n",
       "    <tr>\n",
       "      <th>4</th>\n",
       "      <td>Coding Bootcamp or Self-Learning? Which is Bes...</td>\n",
       "      <td>[\\n, If you’re interested in embarking on a ca...</td>\n",
       "      <td>if youre interested in embarking on a career i...</td>\n",
       "      <td>if your interest in embark on a career in tech...</td>\n",
       "    </tr>\n",
       "    <tr>\n",
       "      <th>5</th>\n",
       "      <td>Codeup Among Top 58 Best Coding Bootcamps of 2...</td>\n",
       "      <td>[\\n, Codeup is pleased to announce we have bee...</td>\n",
       "      <td>codeup is pleased to announce we have been ran...</td>\n",
       "      <td>codeup is pleas to announc we have been rank a...</td>\n",
       "    </tr>\n",
       "  </tbody>\n",
       "</table>\n",
       "</div>"
      ],
      "text/plain": [
       "                                               title  \\\n",
       "0  Black Excellence in Tech: Panelist Spotlight -...   \n",
       "1  Black excellence in tech: Panelist Spotlight -...   \n",
       "2  Black excellence in tech: Panelist Spotlight -...   \n",
       "3  Black excellence in tech: Panelist Spotlight -...   \n",
       "4  Coding Bootcamp or Self-Learning? Which is Bes...   \n",
       "5  Codeup Among Top 58 Best Coding Bootcamps of 2...   \n",
       "\n",
       "                                             content  \\\n",
       "0  [\\n, Black excellence in tech: Panelist Spotli...   \n",
       "1  [\\n, Black excellence in tech: Panelist Spotli...   \n",
       "2  [\\n, Black excellence in tech: Panelist Spotli...   \n",
       "3  [\\n, Black excellence in tech: Panelist Spotli...   \n",
       "4  [\\n, If you’re interested in embarking on a ca...   \n",
       "5  [\\n, Codeup is pleased to announce we have bee...   \n",
       "\n",
       "                                               clean  \\\n",
       "0  black excellence in tech panelist spotlight wi...   \n",
       "1  black excellence in tech panelist spotlight st...   \n",
       "2  black excellence in tech panelist spotlight ja...   \n",
       "3  black excellence in tech panelist spotlight je...   \n",
       "4  if youre interested in embarking on a career i...   \n",
       "5  codeup is pleased to announce we have been ran...   \n",
       "\n",
       "                                             stemmed  \n",
       "0  black excel in tech panelist spotlight wilmari...  \n",
       "1  black excel in tech panelist spotlight stephan...  \n",
       "2  black excel in tech panelist spotlight jame co...  \n",
       "3  black excel in tech panelist spotlight jeanic ...  \n",
       "4  if your interest in embark on a career in tech...  \n",
       "5  codeup is pleas to announc we have been rank a...  "
      ]
     },
     "execution_count": 186,
     "metadata": {},
     "output_type": "execute_result"
    }
   ],
   "source": [
    "codeup_df"
   ]
  },
  {
   "cell_type": "code",
   "execution_count": 202,
   "id": "ca893c49",
   "metadata": {},
   "outputs": [],
   "source": [
    "for i in range(0,len(codeup_df)):\n",
    "    content = codeup_df.clean[i]\n",
    "    content_to_add = stem(content)\n",
    "    codeup_df.loc[i, 'stemmed'] = content_to_add\n"
   ]
  },
  {
   "cell_type": "code",
   "execution_count": 203,
   "id": "9c1dbf0a",
   "metadata": {},
   "outputs": [
    {
     "data": {
      "text/plain": [
       "'black excel in tech panelist spotlight wilmari de la cruz mejia codeup is host a black excel in tech panel in honor of black histori month on februari 22 2023 to further celebr wed like to spotlight each of our panelist lead up to the discuss to learn a bit about their respect experi as black leader in the tech industri meet wilmari wilmari de la cruz mejia is a current codeup student on the path to becom a fullstack web develop at our dalla tx campu wilmari is a veteran expand her knowledg of program languag and technolog on her journey with codeup we ask wilmari to share more about her experi at codeup she share i wa abl to meet other peopl who were passion about code and be in a posit learn environ we hope you can join us on februari 22nd to sit in on an insight convers with wilmari and all of our panelist'"
      ]
     },
     "execution_count": 203,
     "metadata": {},
     "output_type": "execute_result"
    }
   ],
   "source": [
    "codeup_df.stemmed[0]"
   ]
  },
  {
   "cell_type": "code",
   "execution_count": 213,
   "id": "cd4fdad7",
   "metadata": {},
   "outputs": [],
   "source": [
    "for i in range(0,len(codeup_df)):\n",
    "    content = codeup_df.clean[i]\n",
    "    content_to_add = lemmatize(content)\n",
    "    codeup_df.loc[i, 'lemmatized'] = content_to_add\n"
   ]
  },
  {
   "cell_type": "code",
   "execution_count": 214,
   "id": "59a0b342",
   "metadata": {},
   "outputs": [
    {
     "data": {
      "text/html": [
       "<div>\n",
       "<style scoped>\n",
       "    .dataframe tbody tr th:only-of-type {\n",
       "        vertical-align: middle;\n",
       "    }\n",
       "\n",
       "    .dataframe tbody tr th {\n",
       "        vertical-align: top;\n",
       "    }\n",
       "\n",
       "    .dataframe thead th {\n",
       "        text-align: right;\n",
       "    }\n",
       "</style>\n",
       "<table border=\"1\" class=\"dataframe\">\n",
       "  <thead>\n",
       "    <tr style=\"text-align: right;\">\n",
       "      <th></th>\n",
       "      <th>title</th>\n",
       "      <th>content</th>\n",
       "      <th>clean</th>\n",
       "      <th>stemmed</th>\n",
       "      <th>lemmatized</th>\n",
       "    </tr>\n",
       "  </thead>\n",
       "  <tbody>\n",
       "    <tr>\n",
       "      <th>0</th>\n",
       "      <td>Black Excellence in Tech: Panelist Spotlight -...</td>\n",
       "      <td>[\\n, Black excellence in tech: Panelist Spotli...</td>\n",
       "      <td>black excellence in tech panelist spotlight wi...</td>\n",
       "      <td>black excel in tech panelist spotlight wilmari...</td>\n",
       "      <td>black excellence in tech panelist spotlight wi...</td>\n",
       "    </tr>\n",
       "    <tr>\n",
       "      <th>1</th>\n",
       "      <td>Black excellence in tech: Panelist Spotlight -...</td>\n",
       "      <td>[\\n, Black excellence in tech: Panelist Spotli...</td>\n",
       "      <td>black excellence in tech panelist spotlight st...</td>\n",
       "      <td>black excel in tech panelist spotlight stephan...</td>\n",
       "      <td>black excellence in tech panelist spotlight st...</td>\n",
       "    </tr>\n",
       "    <tr>\n",
       "      <th>2</th>\n",
       "      <td>Black excellence in tech: Panelist Spotlight -...</td>\n",
       "      <td>[\\n, Black excellence in tech: Panelist Spotli...</td>\n",
       "      <td>black excellence in tech panelist spotlight ja...</td>\n",
       "      <td>black excel in tech panelist spotlight jame co...</td>\n",
       "      <td>black excellence in tech panelist spotlight ja...</td>\n",
       "    </tr>\n",
       "    <tr>\n",
       "      <th>3</th>\n",
       "      <td>Black excellence in tech: Panelist Spotlight -...</td>\n",
       "      <td>[\\n, Black excellence in tech: Panelist Spotli...</td>\n",
       "      <td>black excellence in tech panelist spotlight je...</td>\n",
       "      <td>black excel in tech panelist spotlight jeanic ...</td>\n",
       "      <td>black excellence in tech panelist spotlight je...</td>\n",
       "    </tr>\n",
       "    <tr>\n",
       "      <th>4</th>\n",
       "      <td>Coding Bootcamp or Self-Learning? Which is Bes...</td>\n",
       "      <td>[\\n, If you’re interested in embarking on a ca...</td>\n",
       "      <td>if youre interested in embarking on a career i...</td>\n",
       "      <td>if your interest in embark on a career in tech...</td>\n",
       "      <td>if youre interested in embarking on a career i...</td>\n",
       "    </tr>\n",
       "    <tr>\n",
       "      <th>5</th>\n",
       "      <td>Codeup Among Top 58 Best Coding Bootcamps of 2...</td>\n",
       "      <td>[\\n, Codeup is pleased to announce we have bee...</td>\n",
       "      <td>codeup is pleased to announce we have been ran...</td>\n",
       "      <td>codeup is pleas to announc we have been rank a...</td>\n",
       "      <td>codeup is pleased to announce we have been ran...</td>\n",
       "    </tr>\n",
       "  </tbody>\n",
       "</table>\n",
       "</div>"
      ],
      "text/plain": [
       "                                               title  \\\n",
       "0  Black Excellence in Tech: Panelist Spotlight -...   \n",
       "1  Black excellence in tech: Panelist Spotlight -...   \n",
       "2  Black excellence in tech: Panelist Spotlight -...   \n",
       "3  Black excellence in tech: Panelist Spotlight -...   \n",
       "4  Coding Bootcamp or Self-Learning? Which is Bes...   \n",
       "5  Codeup Among Top 58 Best Coding Bootcamps of 2...   \n",
       "\n",
       "                                             content  \\\n",
       "0  [\\n, Black excellence in tech: Panelist Spotli...   \n",
       "1  [\\n, Black excellence in tech: Panelist Spotli...   \n",
       "2  [\\n, Black excellence in tech: Panelist Spotli...   \n",
       "3  [\\n, Black excellence in tech: Panelist Spotli...   \n",
       "4  [\\n, If you’re interested in embarking on a ca...   \n",
       "5  [\\n, Codeup is pleased to announce we have bee...   \n",
       "\n",
       "                                               clean  \\\n",
       "0  black excellence in tech panelist spotlight wi...   \n",
       "1  black excellence in tech panelist spotlight st...   \n",
       "2  black excellence in tech panelist spotlight ja...   \n",
       "3  black excellence in tech panelist spotlight je...   \n",
       "4  if youre interested in embarking on a career i...   \n",
       "5  codeup is pleased to announce we have been ran...   \n",
       "\n",
       "                                             stemmed  \\\n",
       "0  black excel in tech panelist spotlight wilmari...   \n",
       "1  black excel in tech panelist spotlight stephan...   \n",
       "2  black excel in tech panelist spotlight jame co...   \n",
       "3  black excel in tech panelist spotlight jeanic ...   \n",
       "4  if your interest in embark on a career in tech...   \n",
       "5  codeup is pleas to announc we have been rank a...   \n",
       "\n",
       "                                          lemmatized  \n",
       "0  black excellence in tech panelist spotlight wi...  \n",
       "1  black excellence in tech panelist spotlight st...  \n",
       "2  black excellence in tech panelist spotlight ja...  \n",
       "3  black excellence in tech panelist spotlight je...  \n",
       "4  if youre interested in embarking on a career i...  \n",
       "5  codeup is pleased to announce we have been ran...  "
      ]
     },
     "execution_count": 214,
     "metadata": {},
     "output_type": "execute_result"
    }
   ],
   "source": [
    "codeup_df"
   ]
  },
  {
   "cell_type": "markdown",
   "id": "59525779",
   "metadata": {},
   "source": [
    "# Ask Yourself: \n"
   ]
  },
  {
   "cell_type": "markdown",
   "id": "fa9ea3bb",
   "metadata": {},
   "source": [
    "# If your corpus is 493KB, would you prefer to use stemmed or lemmatized text?"
   ]
  },
  {
   "cell_type": "markdown",
   "id": "4e7f1dac",
   "metadata": {},
   "source": [
    "* i think due to small file size, stemmer may be appropriate"
   ]
  },
  {
   "cell_type": "markdown",
   "id": "e11936ff",
   "metadata": {},
   "source": [
    "# If your corpus is 25MB, would you prefer to use stemmed or lemmatized text?"
   ]
  },
  {
   "cell_type": "markdown",
   "id": "73752dd6",
   "metadata": {},
   "source": [
    "* i think due to large file size, lemmatized may be faster."
   ]
  },
  {
   "cell_type": "markdown",
   "id": "b986fe48",
   "metadata": {},
   "source": [
    "# If your corpus is 200TB of text and you're charged by the megabyte for your hosted computational resources, would you prefer to use stemmed or lemmatized text?"
   ]
  },
  {
   "cell_type": "markdown",
   "id": "69b771c7",
   "metadata": {},
   "source": [
    "* stemmed would be much slower HOWEVER, lemmatization performance increase to cost ratio may be uneffective."
   ]
  },
  {
   "cell_type": "code",
   "execution_count": null,
   "id": "4540f91d",
   "metadata": {},
   "outputs": [],
   "source": []
  }
 ],
 "metadata": {
  "kernelspec": {
   "display_name": "Python 3 (ipykernel)",
   "language": "python",
   "name": "python3"
  },
  "language_info": {
   "codemirror_mode": {
    "name": "ipython",
    "version": 3
   },
   "file_extension": ".py",
   "mimetype": "text/x-python",
   "name": "python",
   "nbconvert_exporter": "python",
   "pygments_lexer": "ipython3",
   "version": "3.9.13"
  }
 },
 "nbformat": 4,
 "nbformat_minor": 5
}
